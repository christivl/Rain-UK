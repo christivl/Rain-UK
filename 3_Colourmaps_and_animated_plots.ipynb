{
  "cells": [
    {
      "cell_type": "markdown",
      "id": "96eb3aab",
      "metadata": {
        "id": "96eb3aab"
      },
      "source": [
        "# <font color='#069af3'> Plotting & animations</font>"
      ]
    },
    {
      "cell_type": "markdown",
      "id": "fc1ec0ca",
      "metadata": {
        "id": "fc1ec0ca"
      },
      "source": [
        "## Introduction\n",
        "\n",
        "In this notebook, we will:\n",
        "1. Read in the data we generated in the 2nd notebook\n",
        "2. Apply some simple statistics on the data\n",
        "3. Generate some perspective quasi-3D plots\n",
        "4. Generate geospatial plots, with the number of rainy days being shown in a form of a colourmap and an animated plot, showing the colourmaps for every year studied"
      ]
    },
    {
      "cell_type": "markdown",
      "id": "c7e8bac8",
      "metadata": {
        "id": "c7e8bac8"
      },
      "source": [
        "## <font color='#069af3'>STEP 0</font>: Importing useful libraries"
      ]
    },
    {
      "cell_type": "code",
      "source": [
        "!pip install contextily\n",
        "!pip install mplcursors"
      ],
      "metadata": {
        "id": "N_ayHLMHpGyG",
        "outputId": "216c2db8-e494-4b4a-b504-19520eaac96c",
        "colab": {
          "base_uri": "https://localhost:8080/"
        }
      },
      "id": "N_ayHLMHpGyG",
      "execution_count": 1,
      "outputs": [
        {
          "output_type": "stream",
          "name": "stdout",
          "text": [
            "Requirement already satisfied: contextily in /usr/local/lib/python3.10/dist-packages (1.6.2)\n",
            "Requirement already satisfied: geopy in /usr/local/lib/python3.10/dist-packages (from contextily) (2.4.1)\n",
            "Requirement already satisfied: matplotlib in /usr/local/lib/python3.10/dist-packages (from contextily) (3.9.2)\n",
            "Requirement already satisfied: mercantile in /usr/local/lib/python3.10/dist-packages (from contextily) (1.2.1)\n",
            "Requirement already satisfied: pillow in /usr/local/lib/python3.10/dist-packages (from contextily) (10.4.0)\n",
            "Requirement already satisfied: rasterio in /usr/local/lib/python3.10/dist-packages (from contextily) (1.4.1)\n",
            "Requirement already satisfied: requests in /usr/local/lib/python3.10/dist-packages (from contextily) (2.32.3)\n",
            "Requirement already satisfied: joblib in /usr/local/lib/python3.10/dist-packages (from contextily) (1.4.2)\n",
            "Requirement already satisfied: xyzservices in /usr/local/lib/python3.10/dist-packages (from contextily) (2024.9.0)\n",
            "Requirement already satisfied: geographiclib<3,>=1.52 in /usr/local/lib/python3.10/dist-packages (from geopy->contextily) (2.0)\n",
            "Requirement already satisfied: contourpy>=1.0.1 in /usr/local/lib/python3.10/dist-packages (from matplotlib->contextily) (1.3.0)\n",
            "Requirement already satisfied: cycler>=0.10 in /usr/local/lib/python3.10/dist-packages (from matplotlib->contextily) (0.12.1)\n",
            "Requirement already satisfied: fonttools>=4.22.0 in /usr/local/lib/python3.10/dist-packages (from matplotlib->contextily) (4.54.1)\n",
            "Requirement already satisfied: kiwisolver>=1.3.1 in /usr/local/lib/python3.10/dist-packages (from matplotlib->contextily) (1.4.7)\n",
            "Requirement already satisfied: numpy>=1.23 in /usr/local/lib/python3.10/dist-packages (from matplotlib->contextily) (1.26.4)\n",
            "Requirement already satisfied: packaging>=20.0 in /usr/local/lib/python3.10/dist-packages (from matplotlib->contextily) (24.1)\n",
            "Requirement already satisfied: pyparsing>=2.3.1 in /usr/local/lib/python3.10/dist-packages (from matplotlib->contextily) (3.2.0)\n",
            "Requirement already satisfied: python-dateutil>=2.7 in /usr/local/lib/python3.10/dist-packages (from matplotlib->contextily) (2.8.2)\n",
            "Requirement already satisfied: click>=3.0 in /usr/local/lib/python3.10/dist-packages (from mercantile->contextily) (8.1.7)\n",
            "Requirement already satisfied: affine in /usr/local/lib/python3.10/dist-packages (from rasterio->contextily) (2.4.0)\n",
            "Requirement already satisfied: attrs in /usr/local/lib/python3.10/dist-packages (from rasterio->contextily) (24.2.0)\n",
            "Requirement already satisfied: certifi in /usr/local/lib/python3.10/dist-packages (from rasterio->contextily) (2024.8.30)\n",
            "Requirement already satisfied: cligj>=0.5 in /usr/local/lib/python3.10/dist-packages (from rasterio->contextily) (0.7.2)\n",
            "Requirement already satisfied: click-plugins in /usr/local/lib/python3.10/dist-packages (from rasterio->contextily) (1.1.1)\n",
            "Requirement already satisfied: charset-normalizer<4,>=2 in /usr/local/lib/python3.10/dist-packages (from requests->contextily) (3.4.0)\n",
            "Requirement already satisfied: idna<4,>=2.5 in /usr/local/lib/python3.10/dist-packages (from requests->contextily) (3.10)\n",
            "Requirement already satisfied: urllib3<3,>=1.21.1 in /usr/local/lib/python3.10/dist-packages (from requests->contextily) (2.2.3)\n",
            "Requirement already satisfied: six>=1.5 in /usr/local/lib/python3.10/dist-packages (from python-dateutil>=2.7->matplotlib->contextily) (1.16.0)\n",
            "Requirement already satisfied: mplcursors in /usr/local/lib/python3.10/dist-packages (0.5.3)\n",
            "Requirement already satisfied: matplotlib!=3.7.1,>=3.1 in /usr/local/lib/python3.10/dist-packages (from mplcursors) (3.9.2)\n",
            "Requirement already satisfied: contourpy>=1.0.1 in /usr/local/lib/python3.10/dist-packages (from matplotlib!=3.7.1,>=3.1->mplcursors) (1.3.0)\n",
            "Requirement already satisfied: cycler>=0.10 in /usr/local/lib/python3.10/dist-packages (from matplotlib!=3.7.1,>=3.1->mplcursors) (0.12.1)\n",
            "Requirement already satisfied: fonttools>=4.22.0 in /usr/local/lib/python3.10/dist-packages (from matplotlib!=3.7.1,>=3.1->mplcursors) (4.54.1)\n",
            "Requirement already satisfied: kiwisolver>=1.3.1 in /usr/local/lib/python3.10/dist-packages (from matplotlib!=3.7.1,>=3.1->mplcursors) (1.4.7)\n",
            "Requirement already satisfied: numpy>=1.23 in /usr/local/lib/python3.10/dist-packages (from matplotlib!=3.7.1,>=3.1->mplcursors) (1.26.4)\n",
            "Requirement already satisfied: packaging>=20.0 in /usr/local/lib/python3.10/dist-packages (from matplotlib!=3.7.1,>=3.1->mplcursors) (24.1)\n",
            "Requirement already satisfied: pillow>=8 in /usr/local/lib/python3.10/dist-packages (from matplotlib!=3.7.1,>=3.1->mplcursors) (10.4.0)\n",
            "Requirement already satisfied: pyparsing>=2.3.1 in /usr/local/lib/python3.10/dist-packages (from matplotlib!=3.7.1,>=3.1->mplcursors) (3.2.0)\n",
            "Requirement already satisfied: python-dateutil>=2.7 in /usr/local/lib/python3.10/dist-packages (from matplotlib!=3.7.1,>=3.1->mplcursors) (2.8.2)\n",
            "Requirement already satisfied: six>=1.5 in /usr/local/lib/python3.10/dist-packages (from python-dateutil>=2.7->matplotlib!=3.7.1,>=3.1->mplcursors) (1.16.0)\n"
          ]
        }
      ]
    },
    {
      "cell_type": "code",
      "execution_count": 2,
      "id": "f6ce9270",
      "metadata": {
        "id": "f6ce9270"
      },
      "outputs": [],
      "source": [
        "# Interactive backend (for interactive plotting)\n",
        "%matplotlib notebook\n",
        "\n",
        "\n",
        "# Standard libraries\n",
        "import numpy as np\n",
        "import matplotlib.pyplot as plt\n",
        "import pandas as pd\n",
        "\n",
        "# For plotting (perspective plots)\n",
        "from matplotlib.collections import PolyCollection\n",
        "\n",
        "\n",
        "# For plotting geospatial plots\n",
        "import geopandas as gpd\n",
        "from shapely.geometry import Point\n",
        "import contextily as ctx\n",
        "\n",
        "\n",
        "# For interactive display of city when hovering over w/ mouse\n",
        "import mplcursors\n",
        "\n",
        "\n",
        "# For the animated plot\n",
        "from matplotlib.animation import FuncAnimation\n",
        "\n",
        "# For accessing files in Google Drive\n",
        "from google.colab import drive"
      ]
    },
    {
      "cell_type": "markdown",
      "id": "81eeb77a",
      "metadata": {
        "id": "81eeb77a"
      },
      "source": [
        "## <font color='#069af3'>STEP 1</font>: Read the data file in the form of a dataframe\n",
        "\n",
        "In this step, we will read in the data file we generated in the previous notebook in the form of a pandas dataframe.\n",
        "The file containes the names of the 270 UK cities and the average rainy days per year from 2001 up to 2023 for these cities."
      ]
    },
    {
      "cell_type": "code",
      "source": [
        "!ls /content/drive/My\\ Drive/Colab\\ Notebooks/"
      ],
      "metadata": {
        "id": "NTq5gbrXqiKU",
        "outputId": "ad4b1ed1-2dda-4739-f406-f58b55d070aa",
        "colab": {
          "base_uri": "https://localhost:8080/"
        }
      },
      "id": "NTq5gbrXqiKU",
      "execution_count": 7,
      "outputs": [
        {
          "output_type": "stream",
          "name": "stdout",
          "text": [
            "ls: cannot access '/content/drive/My Drive/Colab Notebooks/': No such file or directory\n"
          ]
        }
      ]
    },
    {
      "cell_type": "code",
      "execution_count": 4,
      "id": "4c0c6eab",
      "metadata": {
        "id": "4c0c6eab",
        "outputId": "3f1a2b45-7c9e-49eb-d5f6-c1dd2eb8e243",
        "colab": {
          "base_uri": "https://localhost:8080/",
          "height": 356
        }
      },
      "outputs": [
        {
          "output_type": "error",
          "ename": "FileNotFoundError",
          "evalue": "[Errno 2] No such file or directory: '/content/drive/My Drive/Colab Notebooks/rain_AVG_city.txt'",
          "traceback": [
            "\u001b[0;31m---------------------------------------------------------------------------\u001b[0m",
            "\u001b[0;31mFileNotFoundError\u001b[0m                         Traceback (most recent call last)",
            "\u001b[0;32m<ipython-input-4-22fd6fdd19a2>\u001b[0m in \u001b[0;36m<cell line: 1>\u001b[0;34m()\u001b[0m\n\u001b[0;32m----> 1\u001b[0;31m \u001b[0mrain_data\u001b[0m \u001b[0;34m=\u001b[0m \u001b[0mpd\u001b[0m\u001b[0;34m.\u001b[0m\u001b[0mread_csv\u001b[0m\u001b[0;34m(\u001b[0m\u001b[0;34m\"/content/drive/My Drive/Colab Notebooks/rain_AVG_city.txt\"\u001b[0m\u001b[0;34m,\u001b[0m \u001b[0msep\u001b[0m\u001b[0;34m=\u001b[0m\u001b[0;34m'\\s+'\u001b[0m\u001b[0;34m)\u001b[0m\u001b[0;34m\u001b[0m\u001b[0;34m\u001b[0m\u001b[0m\n\u001b[0m\u001b[1;32m      2\u001b[0m \u001b[0;34m\u001b[0m\u001b[0m\n\u001b[1;32m      3\u001b[0m \u001b[0;31m# Print dataframe to check\u001b[0m\u001b[0;34m\u001b[0m\u001b[0;34m\u001b[0m\u001b[0m\n\u001b[1;32m      4\u001b[0m \u001b[0mprint\u001b[0m\u001b[0;34m(\u001b[0m\u001b[0mrain_data\u001b[0m\u001b[0;34m)\u001b[0m\u001b[0;34m\u001b[0m\u001b[0;34m\u001b[0m\u001b[0m\n",
            "\u001b[0;32m/usr/local/lib/python3.10/dist-packages/pandas/io/parsers/readers.py\u001b[0m in \u001b[0;36mread_csv\u001b[0;34m(filepath_or_buffer, sep, delimiter, header, names, index_col, usecols, dtype, engine, converters, true_values, false_values, skipinitialspace, skiprows, skipfooter, nrows, na_values, keep_default_na, na_filter, verbose, skip_blank_lines, parse_dates, infer_datetime_format, keep_date_col, date_parser, date_format, dayfirst, cache_dates, iterator, chunksize, compression, thousands, decimal, lineterminator, quotechar, quoting, doublequote, escapechar, comment, encoding, encoding_errors, dialect, on_bad_lines, delim_whitespace, low_memory, memory_map, float_precision, storage_options, dtype_backend)\u001b[0m\n\u001b[1;32m   1024\u001b[0m     \u001b[0mkwds\u001b[0m\u001b[0;34m.\u001b[0m\u001b[0mupdate\u001b[0m\u001b[0;34m(\u001b[0m\u001b[0mkwds_defaults\u001b[0m\u001b[0;34m)\u001b[0m\u001b[0;34m\u001b[0m\u001b[0;34m\u001b[0m\u001b[0m\n\u001b[1;32m   1025\u001b[0m \u001b[0;34m\u001b[0m\u001b[0m\n\u001b[0;32m-> 1026\u001b[0;31m     \u001b[0;32mreturn\u001b[0m \u001b[0m_read\u001b[0m\u001b[0;34m(\u001b[0m\u001b[0mfilepath_or_buffer\u001b[0m\u001b[0;34m,\u001b[0m \u001b[0mkwds\u001b[0m\u001b[0;34m)\u001b[0m\u001b[0;34m\u001b[0m\u001b[0;34m\u001b[0m\u001b[0m\n\u001b[0m\u001b[1;32m   1027\u001b[0m \u001b[0;34m\u001b[0m\u001b[0m\n\u001b[1;32m   1028\u001b[0m \u001b[0;34m\u001b[0m\u001b[0m\n",
            "\u001b[0;32m/usr/local/lib/python3.10/dist-packages/pandas/io/parsers/readers.py\u001b[0m in \u001b[0;36m_read\u001b[0;34m(filepath_or_buffer, kwds)\u001b[0m\n\u001b[1;32m    618\u001b[0m \u001b[0;34m\u001b[0m\u001b[0m\n\u001b[1;32m    619\u001b[0m     \u001b[0;31m# Create the parser.\u001b[0m\u001b[0;34m\u001b[0m\u001b[0;34m\u001b[0m\u001b[0m\n\u001b[0;32m--> 620\u001b[0;31m     \u001b[0mparser\u001b[0m \u001b[0;34m=\u001b[0m \u001b[0mTextFileReader\u001b[0m\u001b[0;34m(\u001b[0m\u001b[0mfilepath_or_buffer\u001b[0m\u001b[0;34m,\u001b[0m \u001b[0;34m**\u001b[0m\u001b[0mkwds\u001b[0m\u001b[0;34m)\u001b[0m\u001b[0;34m\u001b[0m\u001b[0;34m\u001b[0m\u001b[0m\n\u001b[0m\u001b[1;32m    621\u001b[0m \u001b[0;34m\u001b[0m\u001b[0m\n\u001b[1;32m    622\u001b[0m     \u001b[0;32mif\u001b[0m \u001b[0mchunksize\u001b[0m \u001b[0;32mor\u001b[0m \u001b[0miterator\u001b[0m\u001b[0;34m:\u001b[0m\u001b[0;34m\u001b[0m\u001b[0;34m\u001b[0m\u001b[0m\n",
            "\u001b[0;32m/usr/local/lib/python3.10/dist-packages/pandas/io/parsers/readers.py\u001b[0m in \u001b[0;36m__init__\u001b[0;34m(self, f, engine, **kwds)\u001b[0m\n\u001b[1;32m   1618\u001b[0m \u001b[0;34m\u001b[0m\u001b[0m\n\u001b[1;32m   1619\u001b[0m         \u001b[0mself\u001b[0m\u001b[0;34m.\u001b[0m\u001b[0mhandles\u001b[0m\u001b[0;34m:\u001b[0m \u001b[0mIOHandles\u001b[0m \u001b[0;34m|\u001b[0m \u001b[0;32mNone\u001b[0m \u001b[0;34m=\u001b[0m \u001b[0;32mNone\u001b[0m\u001b[0;34m\u001b[0m\u001b[0;34m\u001b[0m\u001b[0m\n\u001b[0;32m-> 1620\u001b[0;31m         \u001b[0mself\u001b[0m\u001b[0;34m.\u001b[0m\u001b[0m_engine\u001b[0m \u001b[0;34m=\u001b[0m \u001b[0mself\u001b[0m\u001b[0;34m.\u001b[0m\u001b[0m_make_engine\u001b[0m\u001b[0;34m(\u001b[0m\u001b[0mf\u001b[0m\u001b[0;34m,\u001b[0m \u001b[0mself\u001b[0m\u001b[0;34m.\u001b[0m\u001b[0mengine\u001b[0m\u001b[0;34m)\u001b[0m\u001b[0;34m\u001b[0m\u001b[0;34m\u001b[0m\u001b[0m\n\u001b[0m\u001b[1;32m   1621\u001b[0m \u001b[0;34m\u001b[0m\u001b[0m\n\u001b[1;32m   1622\u001b[0m     \u001b[0;32mdef\u001b[0m \u001b[0mclose\u001b[0m\u001b[0;34m(\u001b[0m\u001b[0mself\u001b[0m\u001b[0;34m)\u001b[0m \u001b[0;34m->\u001b[0m \u001b[0;32mNone\u001b[0m\u001b[0;34m:\u001b[0m\u001b[0;34m\u001b[0m\u001b[0;34m\u001b[0m\u001b[0m\n",
            "\u001b[0;32m/usr/local/lib/python3.10/dist-packages/pandas/io/parsers/readers.py\u001b[0m in \u001b[0;36m_make_engine\u001b[0;34m(self, f, engine)\u001b[0m\n\u001b[1;32m   1878\u001b[0m                 \u001b[0;32mif\u001b[0m \u001b[0;34m\"b\"\u001b[0m \u001b[0;32mnot\u001b[0m \u001b[0;32min\u001b[0m \u001b[0mmode\u001b[0m\u001b[0;34m:\u001b[0m\u001b[0;34m\u001b[0m\u001b[0;34m\u001b[0m\u001b[0m\n\u001b[1;32m   1879\u001b[0m                     \u001b[0mmode\u001b[0m \u001b[0;34m+=\u001b[0m \u001b[0;34m\"b\"\u001b[0m\u001b[0;34m\u001b[0m\u001b[0;34m\u001b[0m\u001b[0m\n\u001b[0;32m-> 1880\u001b[0;31m             self.handles = get_handle(\n\u001b[0m\u001b[1;32m   1881\u001b[0m                 \u001b[0mf\u001b[0m\u001b[0;34m,\u001b[0m\u001b[0;34m\u001b[0m\u001b[0;34m\u001b[0m\u001b[0m\n\u001b[1;32m   1882\u001b[0m                 \u001b[0mmode\u001b[0m\u001b[0;34m,\u001b[0m\u001b[0;34m\u001b[0m\u001b[0;34m\u001b[0m\u001b[0m\n",
            "\u001b[0;32m/usr/local/lib/python3.10/dist-packages/pandas/io/common.py\u001b[0m in \u001b[0;36mget_handle\u001b[0;34m(path_or_buf, mode, encoding, compression, memory_map, is_text, errors, storage_options)\u001b[0m\n\u001b[1;32m    871\u001b[0m         \u001b[0;32mif\u001b[0m \u001b[0mioargs\u001b[0m\u001b[0;34m.\u001b[0m\u001b[0mencoding\u001b[0m \u001b[0;32mand\u001b[0m \u001b[0;34m\"b\"\u001b[0m \u001b[0;32mnot\u001b[0m \u001b[0;32min\u001b[0m \u001b[0mioargs\u001b[0m\u001b[0;34m.\u001b[0m\u001b[0mmode\u001b[0m\u001b[0;34m:\u001b[0m\u001b[0;34m\u001b[0m\u001b[0;34m\u001b[0m\u001b[0m\n\u001b[1;32m    872\u001b[0m             \u001b[0;31m# Encoding\u001b[0m\u001b[0;34m\u001b[0m\u001b[0;34m\u001b[0m\u001b[0m\n\u001b[0;32m--> 873\u001b[0;31m             handle = open(\n\u001b[0m\u001b[1;32m    874\u001b[0m                 \u001b[0mhandle\u001b[0m\u001b[0;34m,\u001b[0m\u001b[0;34m\u001b[0m\u001b[0;34m\u001b[0m\u001b[0m\n\u001b[1;32m    875\u001b[0m                 \u001b[0mioargs\u001b[0m\u001b[0;34m.\u001b[0m\u001b[0mmode\u001b[0m\u001b[0;34m,\u001b[0m\u001b[0;34m\u001b[0m\u001b[0;34m\u001b[0m\u001b[0m\n",
            "\u001b[0;31mFileNotFoundError\u001b[0m: [Errno 2] No such file or directory: '/content/drive/My Drive/Colab Notebooks/rain_AVG_city.txt'"
          ]
        }
      ],
      "source": [
        "# Mount contents of Google Drive\n",
        "drive.mount('/content/drive')\n",
        "\n",
        "rain_data = pd.read_csv(\"/content/drive/My Drive/Colab Notebooks/rain_AVG_city.txt\", sep='\\s+')\n",
        "\n",
        "# Print dataframe to check\n",
        "print(rain_data)\n"
      ]
    },
    {
      "cell_type": "markdown",
      "id": "896cfe79",
      "metadata": {
        "id": "896cfe79"
      },
      "source": [
        "## <font color='#069af3'>STEP 2</font>: Simple statistics\n",
        "\n",
        "In this step, we will perform some very simple statistics on the dataset"
      ]
    },
    {
      "cell_type": "markdown",
      "id": "64e13775",
      "metadata": {
        "id": "64e13775"
      },
      "source": [
        "### 2a: Which UK city was the rainiest in 2021?"
      ]
    },
    {
      "cell_type": "code",
      "execution_count": null,
      "id": "fe9b3d64",
      "metadata": {
        "id": "fe9b3d64"
      },
      "outputs": [],
      "source": [
        "# Find idx of max\n",
        "max_val = np.max(rain_data[\"2021\"])\n",
        "rain_2021_IDX = np.where( (rain_data[\"2021\"] == max_val) )"
      ]
    },
    {
      "cell_type": "markdown",
      "id": "527a18bd",
      "metadata": {
        "id": "527a18bd"
      },
      "source": [
        "Note that here we did not use `np.argmax` to find the index of the maximum, in case there are multiple cities with the same maximum value and `np.agmax` only returns one index"
      ]
    },
    {
      "cell_type": "code",
      "execution_count": null,
      "id": "f18e6b44",
      "metadata": {
        "id": "f18e6b44"
      },
      "outputs": [],
      "source": [
        "# Find city corresponding to idx\n",
        "City_rain_2021 = rain_data[\"CITY\"].iloc[rain_2021_IDX]\n",
        "\n",
        "# Print result\n",
        "print(\"The raininest cities in 2021 were:\", *City_rain_2021, sep = \"\\n\")"
      ]
    },
    {
      "cell_type": "markdown",
      "id": "a97ea603",
      "metadata": {
        "id": "a97ea603"
      },
      "source": [
        "Makes sense that Ben Nevis is the rainiest location, since it's the highest mountain in Scotland, the United Kingdom, and the British Isles (Source: https://en.wikipedia.org/wiki/Ben_Nevis)"
      ]
    },
    {
      "cell_type": "markdown",
      "id": "acf2dbf1",
      "metadata": {
        "id": "acf2dbf1"
      },
      "source": [
        "### 2b: Which UK city is the rainiest on average (from 2001 up to 2023) ?"
      ]
    },
    {
      "cell_type": "code",
      "execution_count": null,
      "id": "77aeea98",
      "metadata": {
        "id": "77aeea98"
      },
      "outputs": [],
      "source": [
        "# Find AVG rainy days per year for each city\n",
        "AVG_rain_ALL = [np.average(rain_data.iloc[row, 1:])\n",
        "                for row in range(len(rain_data))]\n",
        "\n",
        "# Find max value\n",
        "max_val_ALL = np.max(AVG_rain_ALL)\n",
        "\n",
        "# Find max value index\n",
        "max_idx_ALL = np.where( (AVG_rain_ALL == max_val_ALL) )\n",
        "\n",
        "# Find name of the rainiest city\n",
        "Rainiest_city = rain_data[\"CITY\"].iloc[max_idx_ALL]\n",
        "\n",
        "# Print result\n",
        "print(\"The raininest cities since 2000 are:\", *Rainiest_city, sep = \"\\n\")\n",
        "\n"
      ]
    },
    {
      "cell_type": "markdown",
      "id": "459157a0",
      "metadata": {
        "id": "459157a0"
      },
      "source": [
        "### 2c: How many days does it rain in the UK on average?"
      ]
    },
    {
      "cell_type": "code",
      "execution_count": null,
      "id": "d1fe2ead",
      "metadata": {
        "id": "d1fe2ead"
      },
      "outputs": [],
      "source": [
        "# Find AVG over all cities\n",
        "AVG_rain = int(np.average(AVG_rain_ALL))\n",
        "\n",
        "# Print result\n",
        "print(\"On average in the UK, it rains\", AVG_rain, \"days per year\")"
      ]
    },
    {
      "cell_type": "markdown",
      "id": "3cc8ae84",
      "metadata": {
        "id": "3cc8ae84"
      },
      "source": [
        "## <font color='#069af3'>STEP 3</font>: Generating glass-like perspective plots\n",
        "\n",
        "Now, we will plot the data set in the form of perspective plots"
      ]
    },
    {
      "cell_type": "markdown",
      "id": "65043c74",
      "metadata": {
        "id": "65043c74"
      },
      "source": [
        "First, we will need to format our data in order to generate polygons for our plot:\n",
        "* **X array**: Repeat the \"years\" column for each city\n",
        "* **Y array**: Data array contianing rainy days per year for each city and each year\n",
        "(same as the rain_data dataframe, without the city names)\n",
        "BUT shifted upwards, so that the y-axis starts from 0. Otherwise, the plot would be misaligned w.r.t. to the 3D wire frame\n",
        "\n",
        "* **Z array**: The index of each city, to space out data for better visualisation"
      ]
    },
    {
      "cell_type": "code",
      "execution_count": null,
      "id": "0ef633fd",
      "metadata": {
        "id": "0ef633fd"
      },
      "outputs": [],
      "source": [
        "# Get array with years (from txt file)\n",
        "years = np.loadtxt(\"rain_AVG_city.txt\", usecols = range(1, 24), max_rows = 1)\n",
        "\n",
        "#  X = YEAR\n",
        "x = np.repeat(years[np.newaxis], len(rain_data[\"CITY\"].iloc[1:]), axis = 0).T\n",
        "\n",
        "print(\"X =\", x)\n",
        "\n",
        "# Y = AVG rainy days\n",
        "y = np.array(rain_data.iloc[:, 1:]).T\n",
        "\n",
        "print(\"Y =\", y)\n",
        "\n",
        "y_new = [ y[:,i] - np.min(y[:,i])\n",
        "                 for i in range(len(rain_data)) ]\n",
        "\n",
        "# Convert to 2D arr (from list of arr)\n",
        "y_new = np.stack(y_new, axis = 1)\n",
        "\n",
        "# Z = idx for each CITY\n",
        "z = np.arange(0, len(rain_data[\"CITY\"].iloc[1:]))"
      ]
    },
    {
      "cell_type": "markdown",
      "id": "eb0fd985",
      "metadata": {
        "id": "eb0fd985"
      },
      "source": [
        "Define vertices of polygons for each city (z values) in tuple form (xs, ys) ---> (year, rainy_days)\n",
        "<br>\n",
        "The first and last elements of the vertices array have x = 0 so that polygons start and end at the x-axis"
      ]
    },
    {
      "cell_type": "code",
      "execution_count": null,
      "id": "8b8db367",
      "metadata": {
        "id": "8b8db367"
      },
      "outputs": [],
      "source": [
        "# Generate vertices array\n",
        "verts = []\n",
        "for zi in range(len(z)):\n",
        "\n",
        "    xs = np.concatenate([[x[0,zi]], x[:,zi], [x[-1,zi]]])\n",
        "    ys = np.concatenate([[0], y_new[:,zi], [0]])\n",
        "\n",
        "    # Vertices (of polygons): (X = Year; Y = Rainy days)\n",
        "    verts.append(list(zip(xs, ys)))\n",
        "\n",
        "\n",
        "# Set colourmap\n",
        "facecolors = plt.colormaps['plasma'](np.linspace(0, 1, len(verts)))\n",
        "\n",
        "# Plot vertices as polygons\n",
        "poly = PolyCollection(verts, facecolors = facecolors)\n",
        "\n",
        "# Set transparency to 0.5\n",
        "poly.set_alpha(0.5)"
      ]
    },
    {
      "cell_type": "markdown",
      "id": "5a768480",
      "metadata": {
        "id": "5a768480"
      },
      "source": [
        "Now, plot polygons and format axes"
      ]
    },
    {
      "cell_type": "code",
      "execution_count": null,
      "id": "cbc7095b",
      "metadata": {
        "id": "cbc7095b"
      },
      "outputs": [],
      "source": [
        "# Initialise plot\n",
        "fig = plt.figure()\n",
        "ax = fig.add_subplot(111, projection='3d')\n",
        "\n",
        "# Plot and flip x and z axis (so that z shows the different cities)\n",
        "ax.add_collection3d(poly, zs = z, zdir='y')\n",
        "\n",
        "# Set axis limits & labels\n",
        "\n",
        "# X\n",
        "ax.set_xlim3d(x.min(), x.max())\n",
        "ax.set_xlabel('Years')\n",
        "\n",
        "# Y\n",
        "ax.set_ylim3d(z.min(), z.max())\n",
        "ax.set_ylabel('City idx')\n",
        "\n",
        "# Z\n",
        "ax.set_zlim3d(y_new.min(), y_new.max())\n",
        "ax.set_zlabel('Rainy days')"
      ]
    },
    {
      "cell_type": "markdown",
      "id": "5e35f430",
      "metadata": {
        "id": "5e35f430"
      },
      "source": [
        "The problem with this plot is that it becomes very cumbersome for a large amount of data. Therefore, if we want to compare the trends in the rainy days between the different cities, we should study only a few of them at a time.\n",
        "<br>\n",
        "Now, we will isolate the data for the first 5 cities and plot the perspective-type of plot, while also changing the position of the camera and formatting the axes to make the visualisation as clear as possible."
      ]
    },
    {
      "cell_type": "code",
      "execution_count": null,
      "id": "6e065480",
      "metadata": {
        "id": "6e065480"
      },
      "outputs": [],
      "source": [
        "# Isolate the 5 first cities\n",
        "x_5 = x[:,:5]\n",
        "y_5 = y_new[:,:5]\n",
        "z_5 = np.arange(0, 500, 100) # spaced out by 10 units\n",
        "\n",
        "\n",
        "# Array containing the vertices of the polygons\n",
        "verts_5 = []\n",
        "for zi in range(len(z_5)):\n",
        "\n",
        "    xs_5 = np.concatenate([[x_5[0,zi]], x_5[:,zi], [x_5[-1,zi]]])\n",
        "    ys_5 = np.concatenate([[0], y_5[:,zi], [0]])\n",
        "\n",
        "    # Append to list\n",
        "    verts_5.append(list(zip(xs_5, ys_5)))\n",
        "\n",
        "\n",
        "\n",
        "# Viridis colourmap\n",
        "facecolors_5 = plt.colormaps['plasma'](np.linspace(0, 1, len(verts_5)))\n",
        "\n",
        "# Add facecolour from cmap; black contour\n",
        "poly_5 = PolyCollection(verts_5, facecolors = facecolors_5, edgecolors = \"Black\")\n",
        "\n",
        "# Make plot semi-transparent\n",
        "poly_5.set_alpha(0.8)\n",
        "\n",
        "\n",
        "\n",
        "fig = plt.figure()\n",
        "ax = fig.add_subplot(111, projection='3d')\n",
        "\n",
        "# re-orient axes: show \"rainy days\" on y-axis\n",
        "ax.add_collection3d(poly_5, zs = z_5, zdir='y')\n",
        "\n",
        "\n",
        "# Adjust camera positions\n",
        "ax.azim = 270  # rotate around z-axis => Front view\n",
        "ax.elev = 35  # elevation => look from above\n",
        "ax.dist = 20  # zoom\n",
        "\n",
        "\n",
        "\n",
        "\n",
        "# Set axis limits & labels & positions\n",
        "\n",
        "\n",
        "## X - axis ##\n",
        "\n",
        "# Adjust gap between axis; tick label; font size\n",
        "ax.tick_params(axis='x', pad = 7, labelsize = 10)\n",
        "\n",
        "# Adjust ticks; labels; position of labels\n",
        "ax.set_xticks(ticks = np.arange(int(years[0]), int(years[-1] + 2), 2),\n",
        "              labels = np.arange(int(years[0]), int(years[-1] + 2), 2),\n",
        "              rotation = 60, va='baseline', ha='right')\n",
        "\n",
        "# Set axis limits\n",
        "ax.set_xlim3d(x_5.min(), x_5.max())\n",
        "\n",
        "\n",
        "\n",
        "## Y - axis ##\n",
        "\n",
        "# Adjust gap between axis; tick label; font size\n",
        "ax.tick_params(axis='y', pad = 5, labelsize = 11.5)\n",
        "\n",
        "# Adjust ticks; labels = CITY names; position of labels\n",
        "ax.set_yticks(ticks = z_5, labels = rain_data[\"CITY\"].iloc[0:5],\n",
        "              rotation = 0, va='bottom', ha='left')\n",
        "\n",
        "# Set axis limits\n",
        "ax.set_ylim3d(z_5.min(), z_5.max())\n",
        "\n",
        "\n",
        "\n",
        "\n",
        "## Z - axis ##\n",
        "\n",
        "# Adjust gap between axis; tick label; font size\n",
        "ax.tick_params(axis='z', pad = 3, labelsize = 8.5)\n",
        "\n",
        "\n",
        "# Set ticks (shifted data); labels (original data)\n",
        "ax.set_zticks(ticks = np.linspace(y_5.min(), y_5.max(), num = 4),\n",
        "              labels = np.linspace(y[:,:5].min(), y[:,:5].max(),\n",
        "                                   num = 4).astype(int),\n",
        "              rotation = 0, va='top', ha='left')\n",
        "\n",
        "\n",
        "ax.set_zlabel('Rainy days', labelpad = 20, fontsize = 13)\n",
        "\n",
        "# Set axis limits (shifted vals)\n",
        "ax.set_zlim3d(y_5.min(), y_5.max())\n",
        "\n",
        "\n",
        "# Zoom in by adjusting distance between plot & camera\n",
        "ax.dist = 8"
      ]
    },
    {
      "cell_type": "markdown",
      "id": "eb3ecd6a",
      "metadata": {
        "id": "eb3ecd6a"
      },
      "source": [
        "Note that the values on the y-axis (rainy days) had been shifted so they would start at y = 0.\n",
        "<br>\n",
        "However, the labels on the axis correspond to the values of the original, un-shifted data. This was achieved by\n",
        "setting the ticks based on the shifted data and writing the labels based on the original values."
      ]
    },
    {
      "cell_type": "markdown",
      "id": "6f7faec4",
      "metadata": {
        "id": "6f7faec4"
      },
      "source": [
        "#### <font color='#069af3'>Conclusion?</font>\n",
        "\n",
        "* The benefit of this type of plots is that thanks to the perspective and the transparency, we can look at multiple 2D plots at the same time and compare them, drawing qualitative results.\n",
        "<br>\n",
        "<br>\n",
        "* We can tell that the overall rain patterns are similar between the 5 cities, with some exceptions. For example, in 2011 even though it rained the least in  **<font color='#0c0786'>London</font>** and **<font color='#7e03a7'>Birmigham</font>**, it rained the most in **<font color='#cb4777'>Glasgow</font>**, **<font color='#f89540'>Edinburgh</font>** and **<font color='#eff821'>Liverpool</font>**."
      ]
    },
    {
      "cell_type": "markdown",
      "id": "621b4ba9",
      "metadata": {
        "id": "621b4ba9"
      },
      "source": [
        "## <font color='#069af3'>STEP 4</font>: Geospatial colourmaps\n",
        "Since our data refers to different cities in the UK, we can plot their location\n",
        "on the map.\n",
        "<br>\n",
        "Then, we can compare respective rainy days with the use of a colourmap.\n",
        "<br>\n",
        "Finally, we will make an animated plot (or gif) showing the geospatial colour maps for each year from 2001 to 2023."
      ]
    },
    {
      "cell_type": "markdown",
      "id": "01654f6b",
      "metadata": {
        "id": "01654f6b"
      },
      "source": [
        "An easy and straightforward way of generating this kind of plots is through the use of ``geopandas``, which extends the well-known ``pandas`` library by adding support for geospatial data.\n",
        "<br>\n",
        "_Source: https://geopandas.org/en/stable/getting_started/introduction.html_"
      ]
    },
    {
      "cell_type": "markdown",
      "id": "ed8286a4",
      "metadata": {
        "id": "ed8286a4"
      },
      "source": [
        "We will start by converting our dataframe to a geopandas dataframe, by adding a \"geometry\" column, as shown in the figure below. This column will contain the coordinates of each city, after they have been converted from the (Longitude, Latitude) format into spatial points.\n",
        " ![geodf.png](attachment:geodf.png)"
      ]
    },
    {
      "cell_type": "code",
      "execution_count": null,
      "id": "6e0605a1",
      "metadata": {
        "id": "6e0605a1"
      },
      "outputs": [],
      "source": [
        "# Read in coordinates for each city\n",
        "coords_cities = pd.read_csv(\"City_coords.txt\", sep='\\s+')\n",
        "\n",
        "\n",
        "# Zip coordinates into a single column\n",
        "coords_cities['coords'] = list(zip(coords_cities.Longitude,\n",
        "                                   coords_cities.Latitude))\n",
        "\n",
        "# Convert dataframe to GEOdataframe & convert each coord. into a point\n",
        "GEO_df = gpd.GeoDataFrame(rain_data, crs = \"epsg:4326\",\n",
        "                          geometry = coords_cities['coords'].apply(Point))"
      ]
    },
    {
      "cell_type": "markdown",
      "id": "f7c5cfdd",
      "metadata": {
        "id": "f7c5cfdd"
      },
      "source": [
        "Now, we have created our geopandas dataframe and we have converted the points to the coordinate reference system (CRS), which tells Python how those coordinates relate to places on the Earth.\n",
        "<br>\n",
        "Here, we have used the commonly used CRS World Geodetic System 1984, which expresses locations on the Earth's surface, using the latitude and logitude, by passing the argument ``crs = epsg:4326``(because the points in the geometry section of the geodataframe were expressed using the longitude and latitude of each city)\n",
        "<br>\n",
        "_Source: https://geopandas.org/en/stable/docs/user_guide/projections.html_"
      ]
    },
    {
      "cell_type": "code",
      "execution_count": null,
      "id": "e47f749a",
      "metadata": {
        "id": "e47f749a"
      },
      "outputs": [],
      "source": [
        "# Print crs info\n",
        "GEO_df.crs"
      ]
    },
    {
      "cell_type": "markdown",
      "id": "0acfe5bc",
      "metadata": {
        "id": "0acfe5bc"
      },
      "source": [
        "### 4a: Colourmap for one year (2001)\n",
        "\n",
        "\n",
        "We now seek plot our geopandas dataframe for the first year (2001). But, we also want to add a background map of the UK in the same figure, so that we can visualise the exact location of each city.\n",
        "<br>\n",
        "The background map is added through the use of web map tiles from freely available maps (here, we used openstreetmap), with the help of the ``contextily`` package.\n",
        "<br>\n",
        "Usually, web map tiles are expressed in the Web Mercator coordinate system, so we first have to convert the CRS of our data before adding the background map (``epsg = 3857``)\n",
        "<br>\n",
        "_Source: https://geopandas.org/en/stable/gallery/plotting_basemap_background.html_"
      ]
    },
    {
      "cell_type": "code",
      "execution_count": null,
      "id": "d07dde4c",
      "metadata": {
        "scrolled": true,
        "id": "d07dde4c"
      },
      "outputs": [],
      "source": [
        "# Change CRS to match the web map tiles\n",
        "GEO_df= GEO_df.to_crs(epsg = 3857)\n",
        "\n",
        "\n",
        "# Plot city locations (for 2001)\n",
        "ax1 = GEO_df.plot(column = \"2001\", legend = True, figsize = (10, 10),\n",
        "                    categorical = False, cmap = \"viridis\")\n",
        "\n",
        "\n",
        "# Categorical = False => plots cmap according to vals (instead of index)\n",
        "\n",
        "\n",
        "# Set (x,y) limits through some experimentation (otherwise cropped)\n",
        "ax1.set_xlim(-630000, 250000)\n",
        "ax1.set_ylim(6.4e6, 8e6)\n",
        "\n",
        "# Hide axes for a nicer visualisation\n",
        "ax1.axis(\"off\")\n",
        "\n",
        "\n",
        "# Add background map, using web map tiles from URL\n",
        "ctx.add_basemap(ax1,\n",
        "                source ='https://a.tile.openstreetmap.fr/hot/{z}/{x}/{y}.png',\n",
        "                zoom = 5,\n",
        "                alpha = 0.8)\n",
        "\n",
        "# zoom in for higher resolution\n",
        "# Change transparency through alpha\n",
        "\n",
        "\n",
        "##  Hover over with the mouse to see city names ##\n",
        "\n",
        "# Generate a list of the city names (faster than reading through df)\n",
        "city_names = GEO_df['CITY']\n",
        "\n",
        "\n",
        "# Function to customise the labels of the points\n",
        "def show_annation1(sel):\n",
        "    index = round(sel.target.index)\n",
        "    sel.annotation.set_text(city_names[index])\n",
        "\n",
        "\n",
        "# Enable cursor hovering feature\n",
        "cursor1 = mplcursors.cursor(ax1, hover=True)\n",
        "cursor1.connect('add', show_annation1)\n"
      ]
    },
    {
      "cell_type": "markdown",
      "id": "6e88a809",
      "metadata": {
        "id": "6e88a809"
      },
      "source": [
        "In the second part of the script, we used the ``mplcursor`` library, in order to display the name of the city corresponding to each scatter point, when hovering over with the mouse. Thanks to this interactive feature, we avoid having overlapping labels, which would be unreadable.\n",
        "<br>\n",
        "<br>\n",
        "_**Please note that due to the large number of points, this interactive feature is lagging, and works best when hovering over a point, moving the mouse slightly left and right, and waiting for the loading icon.**_"
      ]
    },
    {
      "cell_type": "markdown",
      "id": "6978845f",
      "metadata": {
        "id": "6978845f"
      },
      "source": [
        "#### <font color='#069af3'>Conclusion?</font>\n",
        "\n",
        "* The geospatial colourmap is a better way of visualising the distribution of the rainy days within the UK, compared to the perspective plots. This is because it enables us to compare the amount of rainy days per year between all of the 270 cities studied.\n",
        "<br>\n",
        "<br>\n",
        "* For 2001, we can see that the rainiest location was the Ben Navis mountain in Scotland, which is the only yellow point. The next rainiest places (shown in green) were also located in Scotland (Ayr, Greenock). Similar number of rainy days were seen in the northwest of England (Liverpool, Blackpool, Southport), while the West Midlands and the south were the least rainy.\n",
        "\n"
      ]
    },
    {
      "cell_type": "markdown",
      "id": "f2982a82",
      "metadata": {
        "id": "f2982a82"
      },
      "source": [
        "### 4b: Animated geospatial colourmaps\n",
        "\n",
        "Now, if we want to compare rain patterns over the years, we can plot a map for each year and generate an animation.\n",
        "<br>\n",
        "<br>\n",
        "We can do this by using the ``FuncAnimation`` package of the ``matplotlib.animation`` library.\n",
        "<br>\n",
        "<br>\n",
        "First, we need to write a function that plots the colourmap and adds the basemap in the same figure (ax). This function takes as inputs the \"frame\" variable, which acts as an iterator (i) and the \"ax\" argument, which is the subfigure generated at each iteration.\n",
        "<br>\n",
        "<br>\n",
        "_**Note**_: _The minimum and maximum values of the rain data change every year. So, the colourmap is adjusted accordingly for every iteration, and so the colourbar should be updated as well. However, after numerous tries, I have been unsccessful in plotting a new colourbar at every iteration._"
      ]
    },
    {
      "cell_type": "code",
      "execution_count": null,
      "id": "04bf3e48",
      "metadata": {
        "id": "04bf3e48"
      },
      "outputs": [],
      "source": [
        "# Function plotting colourmap and background map\n",
        "def plotting_fun(frame, ax):\n",
        "\n",
        "    # INPUTS: frame= iterator;\n",
        "    # ax = subfigure generated at every iteration\n",
        "\n",
        "    # STEP 1: Convert each year to string of integer\n",
        "    yr = str(int(years[frame]))\n",
        "\n",
        "    # STEP 2: Plot cmap for one year\n",
        "\n",
        "    # 2a: Clear the existing plot from the axis\n",
        "    ax.clear()\n",
        "\n",
        "\n",
        "    # 2b: Plot cmap on axis \"ax\"\n",
        "    im = GEO_df.plot(column = yr, legend = False, ax = ax, figsize = (10, 10),\n",
        "                        categorical = False, cmap = \"viridis\",\n",
        "                        markersize = 10)\n",
        "\n",
        "    # STEP 3: Add basemap\n",
        "    ctx.add_basemap(ax,\n",
        "                    source ='https://a.tile.openstreetmap.fr/hot/{z}/{x}/{y}.png',\n",
        "                    zoom = 5,\n",
        "                    alpha = 0.8)\n",
        "\n",
        "    # STEP 4: Axis formatting & title\n",
        "\n",
        "    # 4a: Set axes limits\n",
        "    ax.set_xlim(-630000, 250000)\n",
        "    ax.set_ylim(6.4e6, 8e6)\n",
        "\n",
        "    # 4b: Plot title = year\n",
        "    ax.set_title(\"%s\" %yr, fontsize = 20)\n",
        "\n",
        "    # 4c: Hide axes\n",
        "    ax.axis(\"off\")"
      ]
    },
    {
      "cell_type": "markdown",
      "id": "8890246c",
      "metadata": {
        "id": "8890246c"
      },
      "source": [
        "Now that we have the plotting function ready, we can pass it to ``FuncAnimation``, which automatically iterates through every frame and generates a new plot each time. \"Frame\" ranges from 0 to 22, since we passed the argument ``frames = np.arange(0, len(years))``, with one frame representing one year, from 2001 to 2023.\n",
        "<br>\n",
        "After generating the animated plot, we have to save it. Otherwise, the animation object will be garbage collected and we will not be able to visualise the animation.\n",
        "<br>\n",
        "_**Source: https://matplotlib.org/stable/api/_as_gen/matplotlib.animation.FuncAnimation.html#matplotlib.animation.FuncAnimation**_"
      ]
    },
    {
      "cell_type": "code",
      "execution_count": null,
      "id": "b4e79514",
      "metadata": {
        "id": "b4e79514"
      },
      "outputs": [],
      "source": [
        "# Initialise fig,ax objects\n",
        "fig, ax = plt.subplots()\n",
        "\n",
        "\n",
        "# Generate animation on new \"axis\" (subplot) every time\n",
        "ani = FuncAnimation(fig, plotting_fun, fargs=(ax,),\n",
        "                    frames = np.arange(0, len(years)),\n",
        "                    interval = 800)\n",
        "\n",
        "# Save animation\n",
        "ani.save('yearly_rain.gif', writer='Pillow')\n",
        "\n",
        "\n",
        "# Show animation\n",
        "plt.show()"
      ]
    }
  ],
  "metadata": {
    "kernelspec": {
      "display_name": "Python 3 (ipykernel)",
      "language": "python",
      "name": "python3"
    },
    "language_info": {
      "codemirror_mode": {
        "name": "ipython",
        "version": 3
      },
      "file_extension": ".py",
      "mimetype": "text/x-python",
      "name": "python",
      "nbconvert_exporter": "python",
      "pygments_lexer": "ipython3",
      "version": "3.9.18"
    },
    "colab": {
      "provenance": []
    }
  },
  "nbformat": 4,
  "nbformat_minor": 5
}