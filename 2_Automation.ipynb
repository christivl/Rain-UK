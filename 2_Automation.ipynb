{
  "cells": [
    {
      "cell_type": "markdown",
      "id": "8976b572",
      "metadata": {
        "id": "8976b572"
      },
      "source": [
        "# <font color='#069af3'> Automation - Rain data for UK cities</font>"
      ]
    },
    {
      "cell_type": "markdown",
      "id": "bd03a4ae",
      "metadata": {
        "id": "bd03a4ae"
      },
      "source": [
        "## Introduction:\n",
        "\n",
        "In the first notebook, we retrieved the weather data for London from the Open Meteo API, we counted the rainy days for each year from 1980 to 2024 and we showed that the rain patterns can be predicted by a third order Fourier series.\n",
        "<br>\n",
        "<br>\n",
        "Now, we want to count the rainy days for more than one UK cities and save the data into a text file, so that we can process them in the next Jupyter notebook.\n",
        "<br>\n",
        "<br>\n",
        "The steps we will follow are:\n",
        "<br>\n",
        "1. Write functions to get the data from the API & count the rainy days\n",
        "2. Retrieve the geograpical coordinates of every UK city from the web (webscraping)\n",
        "3. Count the rainy days for multiple UK cities\n",
        "4. Write the data into a file"
      ]
    },
    {
      "cell_type": "markdown",
      "id": "0bc50c2e",
      "metadata": {
        "id": "0bc50c2e"
      },
      "source": [
        "## <font color='#069af3'>STEP 0</font>: Importing useful libraries"
      ]
    },
    {
      "cell_type": "code",
      "source": [
        "!pip install openmeteo_requests\n",
        "!pip install requests_cache"
      ],
      "metadata": {
        "colab": {
          "base_uri": "https://localhost:8080/"
        },
        "id": "PSG9UBNSWBnr",
        "outputId": "2bc271ac-8833-4206-cf02-f55e5923ff27"
      },
      "id": "PSG9UBNSWBnr",
      "execution_count": 10,
      "outputs": [
        {
          "output_type": "stream",
          "name": "stdout",
          "text": [
            "Requirement already satisfied: openmeteo_requests in /usr/local/lib/python3.10/dist-packages (1.3.0)\n",
            "Requirement already satisfied: openmeteo-sdk>=1.4.0 in /usr/local/lib/python3.10/dist-packages (from openmeteo_requests) (1.18.0)\n",
            "Requirement already satisfied: requests in /usr/local/lib/python3.10/dist-packages (from openmeteo_requests) (2.32.3)\n",
            "Requirement already satisfied: flatbuffers>=24.0.0 in /usr/local/lib/python3.10/dist-packages (from openmeteo-sdk>=1.4.0->openmeteo_requests) (24.3.25)\n",
            "Requirement already satisfied: charset-normalizer<4,>=2 in /usr/local/lib/python3.10/dist-packages (from requests->openmeteo_requests) (3.4.0)\n",
            "Requirement already satisfied: idna<4,>=2.5 in /usr/local/lib/python3.10/dist-packages (from requests->openmeteo_requests) (3.10)\n",
            "Requirement already satisfied: urllib3<3,>=1.21.1 in /usr/local/lib/python3.10/dist-packages (from requests->openmeteo_requests) (2.2.3)\n",
            "Requirement already satisfied: certifi>=2017.4.17 in /usr/local/lib/python3.10/dist-packages (from requests->openmeteo_requests) (2024.8.30)\n",
            "Requirement already satisfied: requests_cache in /usr/local/lib/python3.10/dist-packages (1.2.1)\n",
            "Requirement already satisfied: attrs>=21.2 in /usr/local/lib/python3.10/dist-packages (from requests_cache) (24.2.0)\n",
            "Requirement already satisfied: cattrs>=22.2 in /usr/local/lib/python3.10/dist-packages (from requests_cache) (24.1.2)\n",
            "Requirement already satisfied: platformdirs>=2.5 in /usr/local/lib/python3.10/dist-packages (from requests_cache) (4.3.6)\n",
            "Requirement already satisfied: requests>=2.22 in /usr/local/lib/python3.10/dist-packages (from requests_cache) (2.32.3)\n",
            "Requirement already satisfied: url-normalize>=1.4 in /usr/local/lib/python3.10/dist-packages (from requests_cache) (1.4.3)\n",
            "Requirement already satisfied: urllib3>=1.25.5 in /usr/local/lib/python3.10/dist-packages (from requests_cache) (2.2.3)\n",
            "Requirement already satisfied: exceptiongroup>=1.1.1 in /usr/local/lib/python3.10/dist-packages (from cattrs>=22.2->requests_cache) (1.2.2)\n",
            "Requirement already satisfied: typing-extensions!=4.6.3,>=4.1.0 in /usr/local/lib/python3.10/dist-packages (from cattrs>=22.2->requests_cache) (4.12.2)\n",
            "Requirement already satisfied: charset-normalizer<4,>=2 in /usr/local/lib/python3.10/dist-packages (from requests>=2.22->requests_cache) (3.4.0)\n",
            "Requirement already satisfied: idna<4,>=2.5 in /usr/local/lib/python3.10/dist-packages (from requests>=2.22->requests_cache) (3.10)\n",
            "Requirement already satisfied: certifi>=2017.4.17 in /usr/local/lib/python3.10/dist-packages (from requests>=2.22->requests_cache) (2024.8.30)\n",
            "Requirement already satisfied: six in /usr/local/lib/python3.10/dist-packages (from url-normalize>=1.4->requests_cache) (1.16.0)\n"
          ]
        }
      ]
    },
    {
      "cell_type": "code",
      "execution_count": 11,
      "id": "41bb74ea",
      "metadata": {
        "id": "41bb74ea"
      },
      "outputs": [],
      "source": [
        "# Standard libraries\n",
        "import numpy as np\n",
        "import matplotlib.pyplot as plt\n",
        "import pandas as pd\n",
        "\n",
        "# Update issue on pandas (reading/writing df)\n",
        "pd.DataFrame.iteritems = pd.DataFrame.items\n",
        "\n",
        "# API-specific library\n",
        "import openmeteo_requests\n",
        "\n",
        "# For calling the API\n",
        "import requests_cache\n",
        "import requests\n",
        "\n",
        "# Needed for isolating the integers from a string\n",
        "import re\n",
        "\n",
        "# Needed for sleep command\n",
        "import time"
      ]
    },
    {
      "cell_type": "markdown",
      "id": "2df9b198",
      "metadata": {
        "id": "2df9b198"
      },
      "source": [
        "## <font color='#069af3'>STEP 1</font>: Write functions to get the data from the API & count the rainy days"
      ]
    },
    {
      "cell_type": "markdown",
      "id": "7d7e16c0",
      "metadata": {
        "id": "7d7e16c0"
      },
      "source": [
        "### 1a: Setup the Open-Meteo API client with cache\n",
        "\n",
        "This is the same step as the **Step 1** in the first notebook, with the difference that we have supressed the retries when calling the API. This is because we will call the API multiple times in a loop in **Step 3** and we want to limit the number of calls as much as we can."
      ]
    },
    {
      "cell_type": "code",
      "execution_count": 12,
      "id": "09b5fb80",
      "metadata": {
        "id": "09b5fb80"
      },
      "outputs": [],
      "source": [
        "# Create cache\n",
        "cache_session = requests_cache.CachedSession('.cache', expire_after = -1)\n",
        "\n",
        "# Create client instance\n",
        "openmeteo = openmeteo_requests.Client(session = cache_session)\n",
        "\n",
        "# URL for historical data\n",
        "url_hist = \"https://archive-api.open-meteo.com/v1/archive\""
      ]
    },
    {
      "cell_type": "markdown",
      "id": "7a907ed6",
      "metadata": {
        "id": "7a907ed6"
      },
      "source": [
        "### 1b: Call the API and save the weather data in a dataframe in a function\n",
        "\n",
        "Now, we will write a function, which calls the API, retrieves the daily rain data and saves it into a dataframe format. This is (mostly) the same code as in **Step 1b**, **Step 1c** and **Step 2** of the first notebook, written altogether as a function."
      ]
    },
    {
      "cell_type": "code",
      "execution_count": 13,
      "id": "37dd27d8",
      "metadata": {
        "id": "37dd27d8"
      },
      "outputs": [],
      "source": [
        "def get_data(lat, lon, str_date, end_date, tzone, prop):\n",
        "\n",
        "    # INPUTS: latitude; longitude; start date; end date; timezone; property(string)\n",
        "    '''Fun to get desired data from API based on given parameters'''\n",
        "\n",
        "    # STEP 1: # Dictionary containing parameters and type of requested data\n",
        "    params = {\n",
        "    \t\"latitude\": lat,\n",
        "    \t\"longitude\": lon,\n",
        "    \t\"start_date\": str_date,\n",
        "    \t\"end_date\": end_date,\n",
        "    \t\"daily\": [prop],\n",
        "    \t\"timezone\": tzone\n",
        "    }\n",
        "\n",
        "    # STEP 2: Get response from API with the given parameters\n",
        "    responses = openmeteo.weather_api(url_hist, params=params)\n",
        "\n",
        "    # Process first location (1st response)\n",
        "    response = responses[0]\n",
        "\n",
        "    # STEP 3: Convert requested data into df\n",
        "\n",
        "    # 3a: Retrieve the daily data from the response\n",
        "    daily = response.Daily()\n",
        "\n",
        "    # 3b: Isolate the daily rain (array)\n",
        "    daily_rain = daily.Variables(0).ValuesAsNumpy()\n",
        "\n",
        "    daily_data = {\"date\": pd.date_range(\n",
        "    \tstart = pd.to_datetime(daily.Time(), unit = \"s\", utc = True),\n",
        "    \tend = pd.to_datetime(daily.TimeEnd(), unit = \"s\", utc = True),\n",
        "    \tfreq = pd.Timedelta(seconds = daily.Interval()),\n",
        "    \tinclusive = \"left\"\n",
        "    )}\n",
        "\n",
        "    # 3c: Build dataframe using columns (based on dictionary key)\n",
        "    daily_data[\"rain\"] = daily_rain\n",
        "    daily_dataframe = pd.DataFrame(data = daily_data)\n",
        "\n",
        "    # OUTPUT = Dataframe with daily data\n",
        "    return daily_dataframe"
      ]
    },
    {
      "cell_type": "markdown",
      "id": "83525f22",
      "metadata": {
        "id": "83525f22"
      },
      "source": [
        "Now, we will test the function and check that we get the same result for London as in the first notebook:"
      ]
    },
    {
      "cell_type": "code",
      "execution_count": 14,
      "id": "520e64cc",
      "metadata": {
        "colab": {
          "base_uri": "https://localhost:8080/"
        },
        "id": "520e64cc",
        "outputId": "719b26d6-8570-48a8-93ec-13f6a7359e95"
      },
      "outputs": [
        {
          "output_type": "stream",
          "name": "stdout",
          "text": [
            "                           date  rain\n",
            "0     1980-07-08 00:00:00+00:00  14.6\n",
            "1     1980-07-09 00:00:00+00:00   4.8\n",
            "2     1980-07-10 00:00:00+00:00   0.0\n",
            "3     1980-07-11 00:00:00+00:00   0.6\n",
            "4     1980-07-12 00:00:00+00:00   0.9\n",
            "...                         ...   ...\n",
            "16087 2024-07-24 00:00:00+00:00   0.5\n",
            "16088 2024-07-25 00:00:00+00:00   2.3\n",
            "16089 2024-07-26 00:00:00+00:00   0.0\n",
            "16090 2024-07-27 00:00:00+00:00   0.0\n",
            "16091 2024-07-28 00:00:00+00:00   0.0\n",
            "\n",
            "[16092 rows x 2 columns]\n"
          ]
        }
      ],
      "source": [
        "# Define parameters for London\n",
        "lat_Ldn = 51.5085 # latitude (London)\n",
        "long_Ldn = -0.1257 # longitude (London)\n",
        "str_date = \"1980-07-08\"\n",
        "end_date = \"2024-07-28\"\n",
        "time_Ldn = \"Europe/London\" # timezone\n",
        "prop = \"rain_sum\" # in mm\n",
        "\n",
        "\n",
        "# Get dataframe using function\n",
        "daily_df_LON = get_data(lat_Ldn, long_Ldn, str_date, end_date, time_Ldn, prop)\n",
        "\n",
        "# Print dataframe\n",
        "print(daily_df_LON)"
      ]
    },
    {
      "cell_type": "markdown",
      "id": "c4ea596a",
      "metadata": {
        "id": "c4ea596a"
      },
      "source": [
        "### 1c: Count rainy days per year and save the data into a dataframe in a function\n",
        "\n",
        "Now, we will write a function, which counts the number of rainy days per year and saves it into a dataframe, when given the daily rain data (generated by the previous function).\n",
        "<br>\n",
        "Again, the code is mostly the same as in **Step 3** of the first notebook."
      ]
    },
    {
      "cell_type": "code",
      "execution_count": 15,
      "id": "5e104196",
      "metadata": {
        "id": "5e104196"
      },
      "outputs": [],
      "source": [
        "def calc_rain_days(df):\n",
        "\n",
        "    # INPUT = daily dataframe\n",
        "    '''Fun to calculate how many rainy days for each year'''\n",
        "\n",
        "    # STEP 1: Divide into sub-dataframes: one per year\n",
        "\n",
        "    # 1a: Isolate year and add it in a new column\n",
        "    df['year'] = pd.to_datetime(df['date']).dt.year\n",
        "\n",
        "    # 1b: Replace date/time with date (more readable)\n",
        "    df['date'] = pd.to_datetime(df['date']).dt.date\n",
        "\n",
        "    # 1c: Split into sub-df according to year\n",
        "    yearly_df = [df[df['year'] == k] \\\n",
        "                 for k in np.unique(df['year'])]\n",
        "\n",
        "\n",
        "    # STEP 2: Count how many days have rain > 1mm for each year\n",
        "\n",
        "    # List comprehension\n",
        "    tot_rain_year = [len(np.where( (yearly_df[k][\"rain\"] > 1) )[0]) \\\n",
        "                     for k in range(0, len(yearly_df))]\n",
        "\n",
        "\n",
        "    # STEP 3: Generate new df: year; rain count per year\n",
        "    rain_year_df = pd.DataFrame()\n",
        "    rain_year_df[\"year\"] = np.unique(df['year'])  # add year\n",
        "    rain_year_df[\"rain_count\"] = tot_rain_year  # add rain count\n",
        "\n",
        "\n",
        "    # STEP 4: Crop first/last year (days << 365)\n",
        "    df_crop = rain_year_df[1:-1]\n",
        "\n",
        "    # OUTPUTS = yearly dataframe (cropped)\n",
        "    return df_crop"
      ]
    },
    {
      "cell_type": "markdown",
      "id": "49e3bb83",
      "metadata": {
        "id": "49e3bb83"
      },
      "source": [
        "Again, we want to test the function and check that we get the same result for London as in the first notebook:"
      ]
    },
    {
      "cell_type": "code",
      "execution_count": 16,
      "id": "1fd15c4c",
      "metadata": {
        "colab": {
          "base_uri": "https://localhost:8080/",
          "height": 489
        },
        "id": "1fd15c4c",
        "outputId": "da56f01c-03bc-4a0f-e79f-f20f2e44d1d1"
      },
      "outputs": [
        {
          "output_type": "execute_result",
          "data": {
            "text/plain": [
              "Text(0.5, 1.0, 'Rainy Days per Year in London 1981-2023')"
            ]
          },
          "metadata": {},
          "execution_count": 16
        },
        {
          "output_type": "display_data",
          "data": {
            "text/plain": [
              "<Figure size 640x480 with 1 Axes>"
            ],
            "image/png": "[encoded data removed]"
          },
          "metadata": {}
        }
      ],
      "source": [
        "yr_df_LON = calc_rain_days(daily_df_LON)\n",
        "\n",
        "# Plot to check more easily\n",
        "plt.figure()\n",
        "plt.plot(yr_df_LON[\"year\"], yr_df_LON[\"rain_count\"], color = \"cornflowerblue\")\n",
        "plt.xlabel(\"Year\")\n",
        "plt.ylabel(\"Rainy Days\")\n",
        "plt.title(\"Rainy Days per Year in London 1981-2023\")"
      ]
    },
    {
      "cell_type": "markdown",
      "id": "a8fba63f",
      "metadata": {
        "id": "a8fba63f"
      },
      "source": [
        "## <font color='#069af3'>STEP 2</font>: Retrieve the geograpical coordinates of every UK city from the web (webscraping)"
      ]
    },
    {
      "cell_type": "markdown",
      "id": "4482cb87",
      "metadata": {
        "id": "4482cb87"
      },
      "source": [
        "The **get_data** function we generated in **Step 1b** requires the Latitude and Longitude of the city under study to be input by the user. This is because the API needs this piece of information in order to retrieve the weather data for the correct location.\n",
        "<br>\n",
        "<br>\n",
        "Therefore, we needed to find a way to retrieve the geogrpahical coordinates of all the cities in the UK from the web, in a fast and automated way. For this, we have used the GeoNames free geographical database: https://www.geonames.org/.\n",
        "<br>\n",
        "When selecting the location as the United Kingdom, it shows us the name of every UK city, along with its Latitude and Longitude in the geographic coordinate system, an example of which is shown in the following snapshot:\n",
        "\n",
        "<iframe src=\"https://drive.google.com/file/d/1pE1ip76jH53EuKszYkkTQl9XO9fJ6Gi9/preview\" width=\"640\" height=\"480\" allow=\"autoplay\"></iframe>\n",
        "\n"
      ]
    },
    {
      "cell_type": "markdown",
      "id": "04b7f99b",
      "metadata": {
        "id": "04b7f99b"
      },
      "source": [
        "Since all the data we want is already on a table, we decided to use the ``pd.read_html`` (``pandas`` function), which extracts all of the tables from a HTML page.\n",
        "\n",
        "_**Source: https://pandas.pydata.org/pandas-docs/stable/reference/api/pandas.read_html.html**_"
      ]
    },
    {
      "cell_type": "markdown",
      "id": "98b5294c",
      "metadata": {
        "id": "98b5294c"
      },
      "source": [
        "### 2a: Get the city coordinates from the first page\n",
        "\n",
        "As a first step, we scraped the coordinates from the website:"
      ]
    },
    {
      "cell_type": "code",
      "execution_count": 17,
      "id": "4f19a820",
      "metadata": {
        "colab": {
          "base_uri": "https://localhost:8080/"
        },
        "id": "4f19a820",
        "outputId": "006d2645-86c5-4556-89b0-6b698d84c7db"
      },
      "outputs": [
        {
          "output_type": "stream",
          "name": "stdout",
          "text": [
            "Unnamed: 0                                                     1.0\n",
            "Name             London ILondon,LON,Lakana,Landan,Landen,Ljonda...\n",
            "Country                     United Kingdom, England Greater London\n",
            "Feature class    capital of a political entity population 8,961...\n",
            "Latitude                                            N 51° 30′ 30''\n",
            "Longitude                                             W 0° 7′ 32''\n",
            "Name: 0, dtype: object\n"
          ]
        }
      ],
      "source": [
        "# URL for UK\n",
        "url = \"https://www.geonames.org/search.html?q=&country=GB\"\n",
        "\n",
        "# Get content from URL\n",
        "html = requests.get(url).content\n",
        "\n",
        "# Convert content to pandas df & extract link\n",
        "\n",
        "# Ignore one row; Use the 1st row as header for each column of the df\n",
        "df_page = pd.read_html(html, skiprows = 1, header = 0)\n",
        "\n",
        "# Get rid of last row of df (empty)\n",
        "df_page_cut = df_page[0].iloc[0:-1].copy()\n",
        "\n",
        "# Print first row of the dataframe\n",
        "print(df_page_cut.iloc[0])"
      ]
    },
    {
      "cell_type": "markdown",
      "id": "e8bad41b",
      "metadata": {
        "id": "e8bad41b"
      },
      "source": [
        "### 2b: Formatting\n",
        "\n",
        "Now, we want the \"Name\" column to write the name of the city only in English, to make the dataframe easy to read. For example, here we wanted to keep only \"London\" istead of \"London ILondon,LON,Lakana,Landan,Landen,Ljonda...\".\n",
        "<br>\n",
        "<br>\n",
        "We can try to isolate only the _first word_ of the name:"
      ]
    },
    {
      "cell_type": "code",
      "execution_count": 18,
      "id": "0e652370",
      "metadata": {
        "colab": {
          "base_uri": "https://localhost:8080/"
        },
        "id": "0e652370",
        "outputId": "f32ea722-73ae-41d1-eca7-6359d75a7cfd"
      },
      "outputs": [
        {
          "output_type": "stream",
          "name": "stdout",
          "text": [
            "Full name:    London ILondon,LON,Lakana,Landan,Landen,Ljondan,Llundain,Lodoni,Londain,Londan,Londar,Londe,Londen,Londin,L...\n",
            "Only first element:    London\n",
            "\n",
            "\n",
            "Full name:    Bristol BRS,Bricgstōƿ,Briosto,Briostó,Bristo,Bristol,Bristol',Bristole,Bristolis,Bristolium,Bristolo,Briston...\n",
            "Only first element:    Bristol\n"
          ]
        }
      ],
      "source": [
        "# For London\n",
        "name_Lon = df_page_cut[\"Name\"].iloc[0]  # Full name\n",
        "print(\"Full name:\" + \"    \" + str(name_Lon))\n",
        "\n",
        "Lon_1st = name_Lon.split(',')[0].split(\" \")[0] # Isolate first element\n",
        "print(\"Only first element:\"  + \"    \" + str(Lon_1st) + \"\\n\" + \"\\n\")\n",
        "\n",
        "# For Greater Manchester\n",
        "name_Manc = df_page_cut[\"Name\"].iloc[11] # Full name\n",
        "print(\"Full name:\" + \"    \" + str(name_Manc))\n",
        "\n",
        "Manc_1st = name_Manc.split(',')[0].split(\" \")[0] # Isolate first element\n",
        "print(\"Only first element:\"  + \"    \" + str(Manc_1st))"
      ]
    },
    {
      "cell_type": "markdown",
      "id": "bab39393",
      "metadata": {
        "id": "bab39393"
      },
      "source": [
        "We can see that even though for London it works fine, this is not the case for Greater Manchester, since the name itself is made up of two words.\n",
        "<br>\n",
        "For this reason, we extracted the city name from the hyperlink associated with each city as follows:"
      ]
    },
    {
      "cell_type": "code",
      "execution_count": 19,
      "id": "ac3b0f80",
      "metadata": {
        "colab": {
          "base_uri": "https://localhost:8080/"
        },
        "id": "ac3b0f80",
        "outputId": "1c5e6b72-7cc4-491a-fe93-f48dec38d82a"
      },
      "outputs": [
        {
          "output_type": "stream",
          "name": "stdout",
          "text": [
            "Link         (1, /2643743/london.html)\n",
            "Latitude        (N 51° 30′ 30'', None)\n",
            "Longitude         (W 0° 7′ 32'', None)\n",
            "Name: 1, dtype: object\n"
          ]
        }
      ],
      "source": [
        "# Extract the link of the webpage from the body of the webpage\n",
        "df_page = pd.read_html(html, skiprows = 1, extract_links = \"body\")\n",
        "\n",
        "# Input column names manually (because \"Link\" column name is empty)\n",
        "df_page[0].columns = ['Link', 'Name', 'Country', 'Feature class', 'Latitude', 'Longitude']\n",
        "\n",
        "# Get rid of 1st & last row of df (empty)\n",
        "df_page_cut = df_page[0].iloc[1:-1].copy()\n",
        "\n",
        "# Print the 1st row of dataframe (only useful cols.)\n",
        "print(df_page_cut[[\"Link\", \"Latitude\", \"Longitude\"]].iloc[0])"
      ]
    },
    {
      "cell_type": "markdown",
      "id": "6f1407f0",
      "metadata": {
        "id": "6f1407f0"
      },
      "source": [
        "Now, we need to do some more formatting to isolate the city name from the link and get rid of the \"None\" element from the Latitude and Longitude. This is done by splitting the elements of each row, using the ``.apply(pd.Series)`` operation and then isolating only the useful element."
      ]
    },
    {
      "cell_type": "code",
      "execution_count": 20,
      "id": "7537ec6b",
      "metadata": {
        "colab": {
          "base_uri": "https://localhost:8080/"
        },
        "id": "7537ec6b",
        "outputId": "225ec718-a8ce-4482-835d-0607f045a0c4"
      },
      "outputs": [
        {
          "output_type": "stream",
          "name": "stdout",
          "text": [
            "Link         /2643743/london.html\n",
            "Latitude           N 51° 30′ 30''\n",
            "Longitude            W 0° 7′ 32''\n",
            "Name: 1, dtype: object\n",
            "\n",
            "\n",
            "\n",
            "Final format of dataframe:\n",
            "\n",
            "Link                 london\n",
            "Latitude     N 51° 30′ 30''\n",
            "Longitude      W 0° 7′ 32''\n",
            "Name: 1, dtype: object\n",
            "\n",
            "\n",
            "\n",
            "Link                bristol\n",
            "Latitude     N 51° 27′ 18''\n",
            "Longitude     W 2° 35′ 47''\n",
            "Name: 12, dtype: object\n"
          ]
        }
      ],
      "source": [
        "# Initialise formatted df\n",
        "df_form = pd.DataFrame()\n",
        "\n",
        "\n",
        "# Split the element of each row and keep only the useful one\n",
        "df_form[\"Link\"] = df_page_cut[\"Link\"].apply(pd.Series)[1] # Keep 1st element\n",
        "df_form[\"Latitude\"] = df_page_cut[\"Latitude\"].apply(pd.Series)[0] # Keep 0th element\n",
        "df_form[\"Longitude\"] = df_page_cut[\"Longitude\"].apply(pd.Series)[0] # Keep 0th element\n",
        "\n",
        "\n",
        "# Print 1st row of dataframe after formatting\n",
        "print(df_form.iloc[0])\n",
        "print(\"\\n\" + \"\\n\")\n",
        "\n",
        "\n",
        "# Isolate city name from URL (Split twice because it has \"/\" and then cityname.html)\n",
        "df_form[\"Link\"] = [str.split(str.split(df_form[\"Link\"].iloc[i], \"/\")[2],\n",
        "                              \".\")[0] for i in range(len(df_form))]\n",
        "\n",
        "# Print final form of the df\n",
        "print(\"Final format of dataframe:\" + \"\\n\")\n",
        "print(df_form.iloc[0])  # London\n",
        "print(\"\\n\" + \"\\n\")\n",
        "print(df_form.iloc[11])  # Greater Manchester"
      ]
    },
    {
      "cell_type": "markdown",
      "id": "e27015c8",
      "metadata": {
        "id": "e27015c8"
      },
      "source": [
        "&uarr; This is the final form of the dataframe, containing the city name in a readable manner, along with its Latitude and Longitude in the geographic coordinate system."
      ]
    },
    {
      "cell_type": "markdown",
      "id": "b2023d6b",
      "metadata": {
        "id": "b2023d6b"
      },
      "source": [
        "### 2c: Get the coordinates of all the UK cities"
      ]
    },
    {
      "cell_type": "markdown",
      "id": "1b52d04d",
      "metadata": {
        "id": "1b52d04d"
      },
      "source": [
        "However, there is another problem with the way we read the city coordinates from the website. The dataframe contains only 50 cities! This is because we have read _only_ the first page of the website."
      ]
    },
    {
      "cell_type": "code",
      "execution_count": 21,
      "id": "8bc1865f",
      "metadata": {
        "colab": {
          "base_uri": "https://localhost:8080/"
        },
        "id": "8bc1865f",
        "outputId": "461b8691-1658-4933-d6aa-ed65d21f817e"
      },
      "outputs": [
        {
          "output_type": "stream",
          "name": "stdout",
          "text": [
            "The length of the dataframe is:   50\n"
          ]
        }
      ],
      "source": [
        "print(\"The length of the dataframe is:\" + \"   \" + str(len(df_form)))"
      ]
    },
    {
      "cell_type": "markdown",
      "id": "d8d5da92",
      "metadata": {
        "id": "d8d5da92"
      },
      "source": [
        "_How to scrape the content from all the pages?_\n",
        "<br>\n",
        "<br>\n",
        "We can write a loop that scrapes the content from the entire website. The loop will read the first page, save its content in a dataframe, then go to the second page, save its content in a new dataframe and so on. The loop will stop once it reads the final page and it will then append all the page-wise dataframes into a list.\n",
        "<br>\n",
        "<br>\n",
        "But first, we need to know which url to pass each time, since it changes for every page. We noticed that the url has a different extension for each page, of the form: startRow = nbr, with nbr being the _index_ of the first row of the page. We know that the first page contains 50 cities, one in each row, with indices running from 0 to 49. The second page starts with the 51st city, of index 50, the third page starts on index 100 and so on. We also know that the starting row of the _last_ page will have the index 5,000.\n",
        "<br>\n",
        "<br>\n",
        "We can write the url of each page as follows:"
      ]
    },
    {
      "cell_type": "code",
      "execution_count": 22,
      "id": "2df27a37",
      "metadata": {
        "colab": {
          "base_uri": "https://localhost:8080/"
        },
        "id": "2df27a37",
        "outputId": "87ac8a86-352f-4778-8d61-2d21884d6400"
      },
      "outputs": [
        {
          "output_type": "stream",
          "name": "stdout",
          "text": [
            "https://www.geonames.org/search.html?q=&country=GB&startRow=0\n",
            "https://www.geonames.org/search.html?q=&country=GB&startRow=50\n",
            "https://www.geonames.org/search.html?q=&country=GB&startRow=100\n",
            "https://www.geonames.org/search.html?q=&country=GB&startRow=150\n",
            "https://www.geonames.org/search.html?q=&country=GB&startRow=200\n",
            "https://www.geonames.org/search.html?q=&country=GB&startRow=250\n",
            "https://www.geonames.org/search.html?q=&country=GB&startRow=300\n",
            "https://www.geonames.org/search.html?q=&country=GB&startRow=350\n",
            "https://www.geonames.org/search.html?q=&country=GB&startRow=400\n",
            "https://www.geonames.org/search.html?q=&country=GB&startRow=450\n",
            "https://www.geonames.org/search.html?q=&country=GB&startRow=500\n",
            "https://www.geonames.org/search.html?q=&country=GB&startRow=550\n",
            "https://www.geonames.org/search.html?q=&country=GB&startRow=600\n",
            "https://www.geonames.org/search.html?q=&country=GB&startRow=650\n",
            "https://www.geonames.org/search.html?q=&country=GB&startRow=700\n",
            "https://www.geonames.org/search.html?q=&country=GB&startRow=750\n",
            "https://www.geonames.org/search.html?q=&country=GB&startRow=800\n",
            "https://www.geonames.org/search.html?q=&country=GB&startRow=850\n",
            "https://www.geonames.org/search.html?q=&country=GB&startRow=900\n",
            "https://www.geonames.org/search.html?q=&country=GB&startRow=950\n",
            "https://www.geonames.org/search.html?q=&country=GB&startRow=1000\n",
            "https://www.geonames.org/search.html?q=&country=GB&startRow=1050\n",
            "https://www.geonames.org/search.html?q=&country=GB&startRow=1100\n",
            "https://www.geonames.org/search.html?q=&country=GB&startRow=1150\n",
            "https://www.geonames.org/search.html?q=&country=GB&startRow=1200\n",
            "https://www.geonames.org/search.html?q=&country=GB&startRow=1250\n",
            "https://www.geonames.org/search.html?q=&country=GB&startRow=1300\n",
            "https://www.geonames.org/search.html?q=&country=GB&startRow=1350\n",
            "https://www.geonames.org/search.html?q=&country=GB&startRow=1400\n",
            "https://www.geonames.org/search.html?q=&country=GB&startRow=1450\n",
            "https://www.geonames.org/search.html?q=&country=GB&startRow=1500\n",
            "https://www.geonames.org/search.html?q=&country=GB&startRow=1550\n",
            "https://www.geonames.org/search.html?q=&country=GB&startRow=1600\n",
            "https://www.geonames.org/search.html?q=&country=GB&startRow=1650\n",
            "https://www.geonames.org/search.html?q=&country=GB&startRow=1700\n",
            "https://www.geonames.org/search.html?q=&country=GB&startRow=1750\n",
            "https://www.geonames.org/search.html?q=&country=GB&startRow=1800\n",
            "https://www.geonames.org/search.html?q=&country=GB&startRow=1850\n",
            "https://www.geonames.org/search.html?q=&country=GB&startRow=1900\n",
            "https://www.geonames.org/search.html?q=&country=GB&startRow=1950\n",
            "https://www.geonames.org/search.html?q=&country=GB&startRow=2000\n",
            "https://www.geonames.org/search.html?q=&country=GB&startRow=2050\n",
            "https://www.geonames.org/search.html?q=&country=GB&startRow=2100\n",
            "https://www.geonames.org/search.html?q=&country=GB&startRow=2150\n",
            "https://www.geonames.org/search.html?q=&country=GB&startRow=2200\n",
            "https://www.geonames.org/search.html?q=&country=GB&startRow=2250\n",
            "https://www.geonames.org/search.html?q=&country=GB&startRow=2300\n",
            "https://www.geonames.org/search.html?q=&country=GB&startRow=2350\n",
            "https://www.geonames.org/search.html?q=&country=GB&startRow=2400\n",
            "https://www.geonames.org/search.html?q=&country=GB&startRow=2450\n",
            "https://www.geonames.org/search.html?q=&country=GB&startRow=2500\n",
            "https://www.geonames.org/search.html?q=&country=GB&startRow=2550\n",
            "https://www.geonames.org/search.html?q=&country=GB&startRow=2600\n",
            "https://www.geonames.org/search.html?q=&country=GB&startRow=2650\n",
            "https://www.geonames.org/search.html?q=&country=GB&startRow=2700\n",
            "https://www.geonames.org/search.html?q=&country=GB&startRow=2750\n",
            "https://www.geonames.org/search.html?q=&country=GB&startRow=2800\n",
            "https://www.geonames.org/search.html?q=&country=GB&startRow=2850\n",
            "https://www.geonames.org/search.html?q=&country=GB&startRow=2900\n",
            "https://www.geonames.org/search.html?q=&country=GB&startRow=2950\n",
            "https://www.geonames.org/search.html?q=&country=GB&startRow=3000\n",
            "https://www.geonames.org/search.html?q=&country=GB&startRow=3050\n",
            "https://www.geonames.org/search.html?q=&country=GB&startRow=3100\n",
            "https://www.geonames.org/search.html?q=&country=GB&startRow=3150\n",
            "https://www.geonames.org/search.html?q=&country=GB&startRow=3200\n",
            "https://www.geonames.org/search.html?q=&country=GB&startRow=3250\n",
            "https://www.geonames.org/search.html?q=&country=GB&startRow=3300\n",
            "https://www.geonames.org/search.html?q=&country=GB&startRow=3350\n",
            "https://www.geonames.org/search.html?q=&country=GB&startRow=3400\n",
            "https://www.geonames.org/search.html?q=&country=GB&startRow=3450\n",
            "https://www.geonames.org/search.html?q=&country=GB&startRow=3500\n",
            "https://www.geonames.org/search.html?q=&country=GB&startRow=3550\n",
            "https://www.geonames.org/search.html?q=&country=GB&startRow=3600\n",
            "https://www.geonames.org/search.html?q=&country=GB&startRow=3650\n",
            "https://www.geonames.org/search.html?q=&country=GB&startRow=3700\n",
            "https://www.geonames.org/search.html?q=&country=GB&startRow=3750\n",
            "https://www.geonames.org/search.html?q=&country=GB&startRow=3800\n",
            "https://www.geonames.org/search.html?q=&country=GB&startRow=3850\n",
            "https://www.geonames.org/search.html?q=&country=GB&startRow=3900\n",
            "https://www.geonames.org/search.html?q=&country=GB&startRow=3950\n",
            "https://www.geonames.org/search.html?q=&country=GB&startRow=4000\n",
            "https://www.geonames.org/search.html?q=&country=GB&startRow=4050\n",
            "https://www.geonames.org/search.html?q=&country=GB&startRow=4100\n",
            "https://www.geonames.org/search.html?q=&country=GB&startRow=4150\n",
            "https://www.geonames.org/search.html?q=&country=GB&startRow=4200\n",
            "https://www.geonames.org/search.html?q=&country=GB&startRow=4250\n",
            "https://www.geonames.org/search.html?q=&country=GB&startRow=4300\n",
            "https://www.geonames.org/search.html?q=&country=GB&startRow=4350\n",
            "https://www.geonames.org/search.html?q=&country=GB&startRow=4400\n",
            "https://www.geonames.org/search.html?q=&country=GB&startRow=4450\n",
            "https://www.geonames.org/search.html?q=&country=GB&startRow=4500\n",
            "https://www.geonames.org/search.html?q=&country=GB&startRow=4550\n",
            "https://www.geonames.org/search.html?q=&country=GB&startRow=4600\n",
            "https://www.geonames.org/search.html?q=&country=GB&startRow=4650\n",
            "https://www.geonames.org/search.html?q=&country=GB&startRow=4700\n",
            "https://www.geonames.org/search.html?q=&country=GB&startRow=4750\n",
            "https://www.geonames.org/search.html?q=&country=GB&startRow=4800\n",
            "https://www.geonames.org/search.html?q=&country=GB&startRow=4850\n",
            "https://www.geonames.org/search.html?q=&country=GB&startRow=4900\n",
            "https://www.geonames.org/search.html?q=&country=GB&startRow=4950\n",
            "https://www.geonames.org/search.html?q=&country=GB&startRow=5000\n"
          ]
        }
      ],
      "source": [
        "# URL base\n",
        "url_next_page = \"https://www.geonames.org/search.html?q=&country=GB&startRow=\"\n",
        "\n",
        "# Index of first row\n",
        "startRow = 0\n",
        "\n",
        "# Index of first row of the LAST page\n",
        "last_row = 5000\n",
        "\n",
        "# Run while the first row index is smaller than the LAST page index\n",
        "while (startRow <= last_row):\n",
        "\n",
        "    # URL = general expression & updated starting row\n",
        "    url_page = f\"{url_next_page}{startRow}\"\n",
        "\n",
        "    # Print URL of this page\n",
        "    print(url_page)\n",
        "\n",
        "    # Update index of starting row\n",
        "    startRow += 50"
      ]
    },
    {
      "cell_type": "markdown",
      "id": "f19ab15c",
      "metadata": {
        "id": "f19ab15c"
      },
      "source": [
        "Now that we have the url for each page, we can write the loop to scrape the content from all the pages of the website. However, since we are planning to use the data for a few hundreds cities, we will stop at the starting index of 300 (page 7):"
      ]
    },
    {
      "cell_type": "code",
      "execution_count": 23,
      "id": "57705129",
      "metadata": {
        "colab": {
          "base_uri": "https://localhost:8080/"
        },
        "id": "57705129",
        "outputId": "3445f53d-b656-4481-8443-9881c43a8ab3"
      },
      "outputs": [
        {
          "output_type": "stream",
          "name": "stdout",
          "text": [
            "             Link        Latitude      Longitude\n",
            "1          london  N 51° 30′ 30''   W 0° 7′ 32''\n",
            "2      birmingham  N 52° 28′ 53''  W 1° 53′ 59''\n",
            "3       edinburgh   N 55° 57′ 7''  W 3° 11′ 47''\n",
            "4       liverpool  N 53° 24′ 38''  W 2° 58′ 40''\n",
            "5   great-britain    N 54° 0′ 0''    W 2° 0′ 0''\n",
            "..            ...             ...            ...\n",
            "46  isle-of-islay   N 55° 47′ 6''  W 6° 14′ 19''\n",
            "47   fort-william  N 56° 48′ 59''   W 5° 6′ 43''\n",
            "48     formartine   N 57° 20′ 0''   W 2° 18′ 0''\n",
            "49       finchley   N 51° 36′ 3''  W 0° 11′ 42''\n",
            "50        feltham  N 51° 26′ 46''  W 0° 24′ 49''\n",
            "\n",
            "[300 rows x 3 columns]\n"
          ]
        }
      ],
      "source": [
        "# Initialise list of dataframes\n",
        "all_df_LIST = []\n",
        "\n",
        "\n",
        "# Initialise index of first row\n",
        "startRow = 0\n",
        "\n",
        "# Start index of Page 7\n",
        "page_7_idx = 300\n",
        "\n",
        "# Run until we hit the last page\n",
        "while (startRow < page_7_idx):\n",
        "\n",
        "    # URL = general expression & updated starting row\n",
        "    url_i = f\"{url_next_page}{startRow}\"\n",
        "\n",
        "    # Get content from URL\n",
        "    html = requests.get(url_i).content\n",
        "\n",
        "    # Convert content to pandas df and extract link\n",
        "    df_i = pd.read_html(html, skiprows = 1, extract_links = \"body\")\n",
        "\n",
        "    # Manually input column names\n",
        "    df_i[0].columns = ['Link', 'Name', 'Country', 'Feature class', 'Latitude', 'Longitude']\n",
        "\n",
        "\n",
        "    # Get rid of the first and last row of df (empty)\n",
        "    df_cut = df_i[0].iloc[1:-1].copy()\n",
        "\n",
        "    # Initialise formatted df\n",
        "    df = pd.DataFrame()\n",
        "\n",
        "\n",
        "    # Keep only the useful elements from tuple (only for cols of interest)\n",
        "    df[\"Link\"] = df_cut[\"Link\"].apply(pd.Series)[1]\n",
        "    df[\"Latitude\"] = df_cut[\"Latitude\"].apply(pd.Series)[0]\n",
        "    df[\"Longitude\"] = df_cut[\"Longitude\"].apply(pd.Series)[0]\n",
        "\n",
        "\n",
        "    # Isolate city name from URL\n",
        "    df[\"Link\"] = [str.split(str.split(df[\"Link\"].iloc[i], \"/\")[2],\n",
        "                              \".\")[0] for i in range(len(df))]\n",
        "\n",
        "    # Append df to LIST\n",
        "    all_df_LIST.append(df)\n",
        "\n",
        "    # Update starting index of page\n",
        "    startRow += 50\n",
        "\n",
        "\n",
        "# Flatten list: from list of df to single df\n",
        "city_coords_deg = pd.concat(all_df_LIST, axis = 0)\n",
        "\n",
        "\n",
        "# Print df\n",
        "print(city_coords_deg)"
      ]
    },
    {
      "cell_type": "markdown",
      "id": "254580d9",
      "metadata": {
        "id": "254580d9"
      },
      "source": [
        "### 2d: Convert Latitude & Longitude to decimals"
      ]
    },
    {
      "cell_type": "markdown",
      "id": "576103b3",
      "metadata": {
        "id": "576103b3"
      },
      "source": [
        "We have now gathered all the information we need from the GeoNames website, ie the city names and their geographical coordinates. Before we can request the rain data from the API, we need to convert the unit of Latitude and Longitude, from geographic coordinates to decimals.\n",
        "<br>\n",
        "<br>\n",
        "We will use the formula:\n",
        "<br>\n",
        "<br>\n",
        "$\\text{Decimal Degrees} = \\text{Degrees} + \\frac{\\text{minutes}}{60} + \\frac{\\text{seconds}}{3600}$\n",
        "<br>\n",
        "<br>\n",
        "Also, by convention, if the latitude starts with \"S\", ie south, we will asign a negative sign to it. This is also true for the longitude, when it starts with \"W\", ie west.\n",
        "<br>\n",
        "So, for example, the latitude for London from N 51° 30′ 30'', it will become:\n",
        "\n",
        "$51+ \\frac{\\text{30}}{60} + \\frac{\\text{30}}{3600} = 51.51$\n",
        "\n",
        "\n",
        "_**Source**: https://www.omnicalculator.com/conversion/coordinates-converter_"
      ]
    },
    {
      "cell_type": "code",
      "execution_count": 24,
      "id": "75f25d53",
      "metadata": {
        "id": "75f25d53"
      },
      "outputs": [],
      "source": [
        "# Initialise list with coordinates\n",
        "Lat_dec_LIST = []\n",
        "Long_dec_LIST = []\n",
        "\n",
        "\n",
        "# Loop through the coordinates of the 300 cities\n",
        "for i in range(len(city_coords_deg)):\n",
        "\n",
        "    # STEP 1: Find direction (N, S, E, W) = first character\n",
        "    dir_lat = str.split(city_coords_deg[\"Latitude\"].iloc[i])[0]\n",
        "    dir_long = str.split(city_coords_deg[\"Longitude\"].iloc[i])[0]\n",
        "\n",
        "    # STEP 2: Get only integers from string (remove special symbols)\n",
        "    Lat_nbr = re.findall(\"\\d+\", city_coords_deg[\"Latitude\"].iloc[i])\n",
        "    Long_nbr = re.findall(\"\\d+\", city_coords_deg[\"Longitude\"].iloc[i])\n",
        "\n",
        "    # STEP 3:  Convert to decimals (round to 4 decimals)\n",
        "    Lat_dec = round(int(Lat_nbr[0]) + int(Lat_nbr[1])/60 +\n",
        "                    int(Lat_nbr[2])/3600, 4)\n",
        "\n",
        "    Long_dec = round(int(Long_nbr[0]) + int(Long_nbr[1])/60 +\n",
        "                     int(Long_nbr[2])/3600, 4)\n",
        "\n",
        "    # STEP 4: Convert signs: If S (south) or W (West), negative\n",
        "    if (dir_lat == \"S\"):\n",
        "        Lat_dec = - Lat_dec\n",
        "\n",
        "    if (dir_long == \"W\"):\n",
        "        Long_dec = - Long_dec\n",
        "\n",
        "    # STEP 5: Append to list\n",
        "    Lat_dec_LIST.append(Lat_dec)\n",
        "    Long_dec_LIST.append(Long_dec)"
      ]
    },
    {
      "cell_type": "markdown",
      "id": "b0837f25",
      "metadata": {
        "id": "b0837f25"
      },
      "source": [
        "Finally, we can replace the converted coordinates in the dataframe and then print them into a text file:"
      ]
    },
    {
      "cell_type": "code",
      "execution_count": 25,
      "id": "4759b82a",
      "metadata": {
        "id": "4759b82a"
      },
      "outputs": [],
      "source": [
        "# Replace converted coordinates in df\n",
        "city_coords_deg[\"Latitude\"] = Lat_dec_LIST\n",
        "city_coords_deg[\"Longitude\"] = Long_dec_LIST\n",
        "\n",
        "\n",
        "# Write df in .txt file: City; Lat; Long\n",
        "with open('City_coords.txt', 'w') as f:\n",
        "    f.write(city_coords_deg.to_string(index = False, col_space = 15))"
      ]
    },
    {
      "cell_type": "markdown",
      "id": "bc441a64",
      "metadata": {
        "id": "bc441a64"
      },
      "source": [
        "## <font color='#069af3'>STEP 3</font>: Count the rainy days for multiple UK cities"
      ]
    },
    {
      "cell_type": "markdown",
      "id": "a7e42f38",
      "metadata": {
        "id": "a7e42f38"
      },
      "source": [
        "At this point, we can fulfill the goal of this notebook, which is to count the rainy days per year for multiple UK cities.\n",
        "<br>\n",
        "<br>\n",
        "The workflow will be the following:\n",
        "- Iterate over each of the 300 cities\n",
        "- For each city, call the API (Open Meteo) to request the corresponding rain data, while providing the Latitude and Longitude from _city_coords_deg_, and save the information into a dataframe. This will be done by calling the first function ``get_data`` (**Step 1b**).\n",
        "- Count the rainy days per year for this city, by calling the second function: ``calc_rain_days`` (**Step 1c**).\n",
        "- Save the rainy days for all the cities into a text file."
      ]
    },
    {
      "cell_type": "code",
      "execution_count": 26,
      "id": "612ef61c",
      "metadata": {
        "id": "612ef61c"
      },
      "outputs": [],
      "source": [
        "# Create cache\n",
        "cache_session = requests_cache.CachedSession('.cache', expire_after = -1)\n",
        "\n",
        "# Create client instance\n",
        "openmeteo = openmeteo_requests.Client(session = cache_session)"
      ]
    },
    {
      "cell_type": "markdown",
      "id": "b50634ba",
      "metadata": {
        "id": "b50634ba"
      },
      "source": [
        "### 3a: API request limits"
      ]
    },
    {
      "cell_type": "markdown",
      "id": "0d43951a",
      "metadata": {
        "id": "0d43951a"
      },
      "source": [
        "However, when we try to call the API 300 times, we hit the minutely request limit:"
      ]
    },
    {
      "cell_type": "code",
      "execution_count": 27,
      "id": "fe47f0f7",
      "metadata": {
        "colab": {
          "base_uri": "https://localhost:8080/",
          "height": 356
        },
        "id": "fe47f0f7",
        "outputId": "02451dd4-218e-4cc2-f9f3-337c3df2e2c8"
      },
      "outputs": [
        {
          "output_type": "error",
          "ename": "OpenMeteoRequestsError",
          "evalue": "{'reason': 'Minutely API request limit exceeded. Please try again in one minute.', 'error': True}",
          "traceback": [
            "\u001b[0;31m---------------------------------------------------------------------------\u001b[0m",
            "\u001b[0;31mOpenMeteoRequestsError\u001b[0m                    Traceback (most recent call last)",
            "\u001b[0;32m<ipython-input-27-77604fbb5608>\u001b[0m in \u001b[0;36m<cell line: 6>\u001b[0;34m()\u001b[0m\n\u001b[1;32m      7\u001b[0m \u001b[0;34m\u001b[0m\u001b[0m\n\u001b[1;32m      8\u001b[0m     \u001b[0;31m# STEP 1: Call API and save data into df\u001b[0m\u001b[0;34m\u001b[0m\u001b[0;34m\u001b[0m\u001b[0m\n\u001b[0;32m----> 9\u001b[0;31m     df_i = get_data(city_coords_deg[\"Latitude\"].iloc[i], \n\u001b[0m\u001b[1;32m     10\u001b[0m                     \u001b[0mcity_coords_deg\u001b[0m\u001b[0;34m[\u001b[0m\u001b[0;34m\"Longitude\"\u001b[0m\u001b[0;34m]\u001b[0m\u001b[0;34m.\u001b[0m\u001b[0miloc\u001b[0m\u001b[0;34m[\u001b[0m\u001b[0mi\u001b[0m\u001b[0;34m]\u001b[0m\u001b[0;34m,\u001b[0m\u001b[0;34m\u001b[0m\u001b[0;34m\u001b[0m\u001b[0m\n\u001b[1;32m     11\u001b[0m                     str_date, end_date, time_Ldn, prop)\n",
            "\u001b[0;32m<ipython-input-13-163cfe012f9b>\u001b[0m in \u001b[0;36mget_data\u001b[0;34m(lat, lon, str_date, end_date, tzone, prop)\u001b[0m\n\u001b[1;32m     15\u001b[0m \u001b[0;34m\u001b[0m\u001b[0m\n\u001b[1;32m     16\u001b[0m     \u001b[0;31m# STEP 2: Get response from API with the given parameters\u001b[0m\u001b[0;34m\u001b[0m\u001b[0;34m\u001b[0m\u001b[0m\n\u001b[0;32m---> 17\u001b[0;31m     \u001b[0mresponses\u001b[0m \u001b[0;34m=\u001b[0m \u001b[0mopenmeteo\u001b[0m\u001b[0;34m.\u001b[0m\u001b[0mweather_api\u001b[0m\u001b[0;34m(\u001b[0m\u001b[0murl_hist\u001b[0m\u001b[0;34m,\u001b[0m \u001b[0mparams\u001b[0m\u001b[0;34m=\u001b[0m\u001b[0mparams\u001b[0m\u001b[0;34m)\u001b[0m\u001b[0;34m\u001b[0m\u001b[0;34m\u001b[0m\u001b[0m\n\u001b[0m\u001b[1;32m     18\u001b[0m \u001b[0;34m\u001b[0m\u001b[0m\n\u001b[1;32m     19\u001b[0m     \u001b[0;31m# Process first location (1st response)\u001b[0m\u001b[0;34m\u001b[0m\u001b[0;34m\u001b[0m\u001b[0m\n",
            "\u001b[0;32m/usr/local/lib/python3.10/dist-packages/openmeteo_requests/Client.py\u001b[0m in \u001b[0;36mweather_api\u001b[0;34m(self, url, params, method, verify)\u001b[0m\n\u001b[1;32m     52\u001b[0m     ) -> list[WeatherApiResponse]:\n\u001b[1;32m     53\u001b[0m         \u001b[0;34m\"\"\"Get and decode as weather api\"\"\"\u001b[0m\u001b[0;34m\u001b[0m\u001b[0;34m\u001b[0m\u001b[0m\n\u001b[0;32m---> 54\u001b[0;31m         \u001b[0;32mreturn\u001b[0m \u001b[0mself\u001b[0m\u001b[0;34m.\u001b[0m\u001b[0m_get\u001b[0m\u001b[0;34m(\u001b[0m\u001b[0mWeatherApiResponse\u001b[0m\u001b[0;34m,\u001b[0m \u001b[0murl\u001b[0m\u001b[0;34m,\u001b[0m \u001b[0mparams\u001b[0m\u001b[0;34m,\u001b[0m \u001b[0mmethod\u001b[0m\u001b[0;34m,\u001b[0m \u001b[0mverify\u001b[0m\u001b[0;34m)\u001b[0m\u001b[0;34m\u001b[0m\u001b[0;34m\u001b[0m\u001b[0m\n\u001b[0m\u001b[1;32m     55\u001b[0m \u001b[0;34m\u001b[0m\u001b[0m\n\u001b[1;32m     56\u001b[0m     \u001b[0;32mdef\u001b[0m \u001b[0m__del__\u001b[0m\u001b[0;34m(\u001b[0m\u001b[0mself\u001b[0m\u001b[0;34m)\u001b[0m\u001b[0;34m:\u001b[0m\u001b[0;34m\u001b[0m\u001b[0;34m\u001b[0m\u001b[0m\n",
            "\u001b[0;32m/usr/local/lib/python3.10/dist-packages/openmeteo_requests/Client.py\u001b[0m in \u001b[0;36m_get\u001b[0;34m(self, cls, url, params, method, verify)\u001b[0m\n\u001b[1;32m     33\u001b[0m         \u001b[0;32mif\u001b[0m \u001b[0mresponse\u001b[0m\u001b[0;34m.\u001b[0m\u001b[0mstatus_code\u001b[0m \u001b[0;32min\u001b[0m \u001b[0;34m[\u001b[0m\u001b[0;36m400\u001b[0m\u001b[0;34m,\u001b[0m \u001b[0;36m429\u001b[0m\u001b[0;34m]\u001b[0m\u001b[0;34m:\u001b[0m\u001b[0;34m\u001b[0m\u001b[0;34m\u001b[0m\u001b[0m\n\u001b[1;32m     34\u001b[0m             \u001b[0mresponse_body\u001b[0m \u001b[0;34m=\u001b[0m \u001b[0mresponse\u001b[0m\u001b[0;34m.\u001b[0m\u001b[0mjson\u001b[0m\u001b[0;34m(\u001b[0m\u001b[0;34m)\u001b[0m\u001b[0;34m\u001b[0m\u001b[0;34m\u001b[0m\u001b[0m\n\u001b[0;32m---> 35\u001b[0;31m             \u001b[0;32mraise\u001b[0m \u001b[0mOpenMeteoRequestsError\u001b[0m\u001b[0;34m(\u001b[0m\u001b[0mresponse_body\u001b[0m\u001b[0;34m)\u001b[0m\u001b[0;34m\u001b[0m\u001b[0;34m\u001b[0m\u001b[0m\n\u001b[0m\u001b[1;32m     36\u001b[0m \u001b[0;34m\u001b[0m\u001b[0m\n\u001b[1;32m     37\u001b[0m         \u001b[0mresponse\u001b[0m\u001b[0;34m.\u001b[0m\u001b[0mraise_for_status\u001b[0m\u001b[0;34m(\u001b[0m\u001b[0;34m)\u001b[0m\u001b[0;34m\u001b[0m\u001b[0;34m\u001b[0m\u001b[0m\n",
            "\u001b[0;31mOpenMeteoRequestsError\u001b[0m: {'reason': 'Minutely API request limit exceeded. Please try again in one minute.', 'error': True}"
          ]
        }
      ],
      "source": [
        "# Initialise list of df\n",
        "yr_rain_LIST = []\n",
        "\n",
        "\n",
        "# Iterate through the 300 cities\n",
        "for i in range(len(city_coords_deg)):\n",
        "\n",
        "    # STEP 1: Call API and save data into df\n",
        "    df_i = get_data(city_coords_deg[\"Latitude\"].iloc[i],\n",
        "                    city_coords_deg[\"Longitude\"].iloc[i],\n",
        "                    str_date, end_date, time_Ldn, prop)\n",
        "\n",
        "\n",
        "    # STEP 2. Calc rainy days per year\n",
        "    rain_yr_i = calc_rain_days(df_i)\n",
        "\n",
        "    # STEP 3: Append rainy days count in list (convert to array first)\n",
        "    yr_rain_LIST.append(np.array(rain_yr_i[\"rain_count\"]))\n",
        ""
      ]
    },
    {
      "cell_type": "markdown",
      "id": "77de96f9",
      "metadata": {
        "id": "77de96f9"
      },
      "source": [
        "_What are the API limits?_\n",
        "\n",
        "To avoid this error, we first need to find out the minutely, hourly and daily limits of the API we are using. According to the Terms of Use of the API, we can call it up to 600 times per minute.\n",
        "<br>\n",
        "However, we saw that this is not the case, since we hit the limit after making only 300 calls.\n",
        "\n",
        "![picture](https://drive.google.com/file/d/1CGqWoxtHGM5Pa5mv2zfW3jIzFGi_4PLe/view?usp=drive_link)\n",
        "\n",
        "We tested when the limit is hit by printing the index of each iteration, until the error occurs:"
      ]
    },
    {
      "cell_type": "code",
      "execution_count": 30,
      "id": "4f2d1c5f",
      "metadata": {
        "colab": {
          "base_uri": "https://localhost:8080/",
          "height": 547
        },
        "id": "4f2d1c5f",
        "outputId": "b59d35dd-8d02-4b01-f069-28bcb0dbfff7"
      },
      "outputs": [
        {
          "output_type": "stream",
          "name": "stdout",
          "text": [
            "0\n",
            "1\n",
            "2\n",
            "3\n",
            "4\n",
            "5\n",
            "6\n",
            "7\n",
            "8\n",
            "9\n",
            "10\n"
          ]
        },
        {
          "output_type": "error",
          "ename": "OpenMeteoRequestsError",
          "evalue": "{'reason': 'Minutely API request limit exceeded. Please try again in one minute.', 'error': True}",
          "traceback": [
            "\u001b[0;31m---------------------------------------------------------------------------\u001b[0m",
            "\u001b[0;31mOpenMeteoRequestsError\u001b[0m                    Traceback (most recent call last)",
            "\u001b[0;32m<ipython-input-30-e15a7d9dc71f>\u001b[0m in \u001b[0;36m<cell line: 2>\u001b[0;34m()\u001b[0m\n\u001b[1;32m      3\u001b[0m \u001b[0;34m\u001b[0m\u001b[0m\n\u001b[1;32m      4\u001b[0m     \u001b[0;31m# STEP 1: Call API and save data into df\u001b[0m\u001b[0;34m\u001b[0m\u001b[0;34m\u001b[0m\u001b[0m\n\u001b[0;32m----> 5\u001b[0;31m     df_i = get_data(city_coords_deg[\"Latitude\"].iloc[i], \n\u001b[0m\u001b[1;32m      6\u001b[0m                     \u001b[0mcity_coords_deg\u001b[0m\u001b[0;34m[\u001b[0m\u001b[0;34m\"Longitude\"\u001b[0m\u001b[0;34m]\u001b[0m\u001b[0;34m.\u001b[0m\u001b[0miloc\u001b[0m\u001b[0;34m[\u001b[0m\u001b[0mi\u001b[0m\u001b[0;34m]\u001b[0m\u001b[0;34m,\u001b[0m\u001b[0;34m\u001b[0m\u001b[0;34m\u001b[0m\u001b[0m\n\u001b[1;32m      7\u001b[0m                     str_date, end_date, time_Ldn, prop)\n",
            "\u001b[0;32m<ipython-input-13-163cfe012f9b>\u001b[0m in \u001b[0;36mget_data\u001b[0;34m(lat, lon, str_date, end_date, tzone, prop)\u001b[0m\n\u001b[1;32m     15\u001b[0m \u001b[0;34m\u001b[0m\u001b[0m\n\u001b[1;32m     16\u001b[0m     \u001b[0;31m# STEP 2: Get response from API with the given parameters\u001b[0m\u001b[0;34m\u001b[0m\u001b[0;34m\u001b[0m\u001b[0m\n\u001b[0;32m---> 17\u001b[0;31m     \u001b[0mresponses\u001b[0m \u001b[0;34m=\u001b[0m \u001b[0mopenmeteo\u001b[0m\u001b[0;34m.\u001b[0m\u001b[0mweather_api\u001b[0m\u001b[0;34m(\u001b[0m\u001b[0murl_hist\u001b[0m\u001b[0;34m,\u001b[0m \u001b[0mparams\u001b[0m\u001b[0;34m=\u001b[0m\u001b[0mparams\u001b[0m\u001b[0;34m)\u001b[0m\u001b[0;34m\u001b[0m\u001b[0;34m\u001b[0m\u001b[0m\n\u001b[0m\u001b[1;32m     18\u001b[0m \u001b[0;34m\u001b[0m\u001b[0m\n\u001b[1;32m     19\u001b[0m     \u001b[0;31m# Process first location (1st response)\u001b[0m\u001b[0;34m\u001b[0m\u001b[0;34m\u001b[0m\u001b[0m\n",
            "\u001b[0;32m/usr/local/lib/python3.10/dist-packages/openmeteo_requests/Client.py\u001b[0m in \u001b[0;36mweather_api\u001b[0;34m(self, url, params, method, verify)\u001b[0m\n\u001b[1;32m     52\u001b[0m     ) -> list[WeatherApiResponse]:\n\u001b[1;32m     53\u001b[0m         \u001b[0;34m\"\"\"Get and decode as weather api\"\"\"\u001b[0m\u001b[0;34m\u001b[0m\u001b[0;34m\u001b[0m\u001b[0m\n\u001b[0;32m---> 54\u001b[0;31m         \u001b[0;32mreturn\u001b[0m \u001b[0mself\u001b[0m\u001b[0;34m.\u001b[0m\u001b[0m_get\u001b[0m\u001b[0;34m(\u001b[0m\u001b[0mWeatherApiResponse\u001b[0m\u001b[0;34m,\u001b[0m \u001b[0murl\u001b[0m\u001b[0;34m,\u001b[0m \u001b[0mparams\u001b[0m\u001b[0;34m,\u001b[0m \u001b[0mmethod\u001b[0m\u001b[0;34m,\u001b[0m \u001b[0mverify\u001b[0m\u001b[0;34m)\u001b[0m\u001b[0;34m\u001b[0m\u001b[0;34m\u001b[0m\u001b[0m\n\u001b[0m\u001b[1;32m     55\u001b[0m \u001b[0;34m\u001b[0m\u001b[0m\n\u001b[1;32m     56\u001b[0m     \u001b[0;32mdef\u001b[0m \u001b[0m__del__\u001b[0m\u001b[0;34m(\u001b[0m\u001b[0mself\u001b[0m\u001b[0;34m)\u001b[0m\u001b[0;34m:\u001b[0m\u001b[0;34m\u001b[0m\u001b[0;34m\u001b[0m\u001b[0m\n",
            "\u001b[0;32m/usr/local/lib/python3.10/dist-packages/openmeteo_requests/Client.py\u001b[0m in \u001b[0;36m_get\u001b[0;34m(self, cls, url, params, method, verify)\u001b[0m\n\u001b[1;32m     33\u001b[0m         \u001b[0;32mif\u001b[0m \u001b[0mresponse\u001b[0m\u001b[0;34m.\u001b[0m\u001b[0mstatus_code\u001b[0m \u001b[0;32min\u001b[0m \u001b[0;34m[\u001b[0m\u001b[0;36m400\u001b[0m\u001b[0;34m,\u001b[0m \u001b[0;36m429\u001b[0m\u001b[0;34m]\u001b[0m\u001b[0;34m:\u001b[0m\u001b[0;34m\u001b[0m\u001b[0;34m\u001b[0m\u001b[0m\n\u001b[1;32m     34\u001b[0m             \u001b[0mresponse_body\u001b[0m \u001b[0;34m=\u001b[0m \u001b[0mresponse\u001b[0m\u001b[0;34m.\u001b[0m\u001b[0mjson\u001b[0m\u001b[0;34m(\u001b[0m\u001b[0;34m)\u001b[0m\u001b[0;34m\u001b[0m\u001b[0;34m\u001b[0m\u001b[0m\n\u001b[0;32m---> 35\u001b[0;31m             \u001b[0;32mraise\u001b[0m \u001b[0mOpenMeteoRequestsError\u001b[0m\u001b[0;34m(\u001b[0m\u001b[0mresponse_body\u001b[0m\u001b[0;34m)\u001b[0m\u001b[0;34m\u001b[0m\u001b[0;34m\u001b[0m\u001b[0m\n\u001b[0m\u001b[1;32m     36\u001b[0m \u001b[0;34m\u001b[0m\u001b[0m\n\u001b[1;32m     37\u001b[0m         \u001b[0mresponse\u001b[0m\u001b[0;34m.\u001b[0m\u001b[0mraise_for_status\u001b[0m\u001b[0;34m(\u001b[0m\u001b[0;34m)\u001b[0m\u001b[0;34m\u001b[0m\u001b[0;34m\u001b[0m\u001b[0m\n",
            "\u001b[0;31mOpenMeteoRequestsError\u001b[0m: {'reason': 'Minutely API request limit exceeded. Please try again in one minute.', 'error': True}"
          ]
        }
      ],
      "source": [
        "# Iterate through the 300 cities\n",
        "for i in range(len(city_coords_deg)):\n",
        "\n",
        "    # STEP 1: Call API and save data into df\n",
        "    df_i = get_data(city_coords_deg[\"Latitude\"].iloc[i],\n",
        "                    city_coords_deg[\"Longitude\"].iloc[i],\n",
        "                    str_date, end_date, time_Ldn, prop)\n",
        "\n",
        "    # STEP 2: Print index\n",
        "    print(i)"
      ]
    },
    {
      "cell_type": "markdown",
      "id": "74f58c3c",
      "metadata": {
        "id": "74f58c3c"
      },
      "source": [
        "At the time we run the script, the limit is 10 calls per minute. Hence, we decided to make 10 subsequent calls, then wait one minute, then make another 10 calls and so on. However, we have noticed that the number of allowed calls heavily depends on the API traffic. So, it is possible that if we call the API at a busy time, the limit is hit even earlier.\n",
        "<br>\n",
        "<br>\n",
        "Here, we are showing an example of this, for a total of 40 calls (ie 40 cities), which runs in approximately 5 minutes."
      ]
    },
    {
      "cell_type": "code",
      "execution_count": 32,
      "id": "8d0f4341",
      "metadata": {
        "colab": {
          "base_uri": "https://localhost:8080/",
          "height": 1000
        },
        "id": "8d0f4341",
        "outputId": "bea4e2bf-7cce-4fdd-ebb9-cb641ee490b2"
      },
      "outputs": [
        {
          "output_type": "stream",
          "name": "stdout",
          "text": [
            "0\n",
            "1\n",
            "2\n",
            "3\n",
            "4\n",
            "5\n",
            "6\n",
            "7\n",
            "8\n",
            "9\n",
            "I'm sleeping for 1 min j =0\n",
            "10\n",
            "11\n",
            "12\n",
            "13\n",
            "14\n",
            "15\n",
            "16\n",
            "17\n",
            "18\n",
            "19\n",
            "I'm sleeping for 1 min j =1\n",
            "20\n",
            "21\n",
            "22\n",
            "23\n",
            "24\n",
            "25\n",
            "26\n",
            "27\n",
            "28\n",
            "29\n",
            "I'm sleeping for 1 min j =2\n",
            "30\n",
            "31\n",
            "32\n",
            "33\n",
            "34\n",
            "35\n"
          ]
        },
        {
          "output_type": "error",
          "ename": "OpenMeteoRequestsError",
          "evalue": "{'error': True, 'reason': 'Minutely API request limit exceeded. Please try again in one minute.'}",
          "traceback": [
            "\u001b[0;31m---------------------------------------------------------------------------\u001b[0m",
            "\u001b[0;31mOpenMeteoRequestsError\u001b[0m                    Traceback (most recent call last)",
            "\u001b[0;32m<ipython-input-32-1bcb005fd961>\u001b[0m in \u001b[0;36m<cell line: 14>\u001b[0;34m()\u001b[0m\n\u001b[1;32m     17\u001b[0m \u001b[0;34m\u001b[0m\u001b[0m\n\u001b[1;32m     18\u001b[0m         \u001b[0;31m# STEP 1. Build df for one city at a time\u001b[0m\u001b[0;34m\u001b[0m\u001b[0;34m\u001b[0m\u001b[0m\n\u001b[0;32m---> 19\u001b[0;31m         df_i = get_data(city_coords_deg[\"Latitude\"].iloc[i], \n\u001b[0m\u001b[1;32m     20\u001b[0m                         \u001b[0mcity_coords_deg\u001b[0m\u001b[0;34m[\u001b[0m\u001b[0;34m\"Longitude\"\u001b[0m\u001b[0;34m]\u001b[0m\u001b[0;34m.\u001b[0m\u001b[0miloc\u001b[0m\u001b[0;34m[\u001b[0m\u001b[0mi\u001b[0m\u001b[0;34m]\u001b[0m\u001b[0;34m,\u001b[0m\u001b[0;34m\u001b[0m\u001b[0;34m\u001b[0m\u001b[0m\n\u001b[1;32m     21\u001b[0m                         str_date, end_date, time_Ldn, prop)\n",
            "\u001b[0;32m<ipython-input-13-163cfe012f9b>\u001b[0m in \u001b[0;36mget_data\u001b[0;34m(lat, lon, str_date, end_date, tzone, prop)\u001b[0m\n\u001b[1;32m     15\u001b[0m \u001b[0;34m\u001b[0m\u001b[0m\n\u001b[1;32m     16\u001b[0m     \u001b[0;31m# STEP 2: Get response from API with the given parameters\u001b[0m\u001b[0;34m\u001b[0m\u001b[0;34m\u001b[0m\u001b[0m\n\u001b[0;32m---> 17\u001b[0;31m     \u001b[0mresponses\u001b[0m \u001b[0;34m=\u001b[0m \u001b[0mopenmeteo\u001b[0m\u001b[0;34m.\u001b[0m\u001b[0mweather_api\u001b[0m\u001b[0;34m(\u001b[0m\u001b[0murl_hist\u001b[0m\u001b[0;34m,\u001b[0m \u001b[0mparams\u001b[0m\u001b[0;34m=\u001b[0m\u001b[0mparams\u001b[0m\u001b[0;34m)\u001b[0m\u001b[0;34m\u001b[0m\u001b[0;34m\u001b[0m\u001b[0m\n\u001b[0m\u001b[1;32m     18\u001b[0m \u001b[0;34m\u001b[0m\u001b[0m\n\u001b[1;32m     19\u001b[0m     \u001b[0;31m# Process first location (1st response)\u001b[0m\u001b[0;34m\u001b[0m\u001b[0;34m\u001b[0m\u001b[0m\n",
            "\u001b[0;32m/usr/local/lib/python3.10/dist-packages/openmeteo_requests/Client.py\u001b[0m in \u001b[0;36mweather_api\u001b[0;34m(self, url, params, method, verify)\u001b[0m\n\u001b[1;32m     52\u001b[0m     ) -> list[WeatherApiResponse]:\n\u001b[1;32m     53\u001b[0m         \u001b[0;34m\"\"\"Get and decode as weather api\"\"\"\u001b[0m\u001b[0;34m\u001b[0m\u001b[0;34m\u001b[0m\u001b[0m\n\u001b[0;32m---> 54\u001b[0;31m         \u001b[0;32mreturn\u001b[0m \u001b[0mself\u001b[0m\u001b[0;34m.\u001b[0m\u001b[0m_get\u001b[0m\u001b[0;34m(\u001b[0m\u001b[0mWeatherApiResponse\u001b[0m\u001b[0;34m,\u001b[0m \u001b[0murl\u001b[0m\u001b[0;34m,\u001b[0m \u001b[0mparams\u001b[0m\u001b[0;34m,\u001b[0m \u001b[0mmethod\u001b[0m\u001b[0;34m,\u001b[0m \u001b[0mverify\u001b[0m\u001b[0;34m)\u001b[0m\u001b[0;34m\u001b[0m\u001b[0;34m\u001b[0m\u001b[0m\n\u001b[0m\u001b[1;32m     55\u001b[0m \u001b[0;34m\u001b[0m\u001b[0m\n\u001b[1;32m     56\u001b[0m     \u001b[0;32mdef\u001b[0m \u001b[0m__del__\u001b[0m\u001b[0;34m(\u001b[0m\u001b[0mself\u001b[0m\u001b[0;34m)\u001b[0m\u001b[0;34m:\u001b[0m\u001b[0;34m\u001b[0m\u001b[0;34m\u001b[0m\u001b[0m\n",
            "\u001b[0;32m/usr/local/lib/python3.10/dist-packages/openmeteo_requests/Client.py\u001b[0m in \u001b[0;36m_get\u001b[0;34m(self, cls, url, params, method, verify)\u001b[0m\n\u001b[1;32m     33\u001b[0m         \u001b[0;32mif\u001b[0m \u001b[0mresponse\u001b[0m\u001b[0;34m.\u001b[0m\u001b[0mstatus_code\u001b[0m \u001b[0;32min\u001b[0m \u001b[0;34m[\u001b[0m\u001b[0;36m400\u001b[0m\u001b[0;34m,\u001b[0m \u001b[0;36m429\u001b[0m\u001b[0;34m]\u001b[0m\u001b[0;34m:\u001b[0m\u001b[0;34m\u001b[0m\u001b[0;34m\u001b[0m\u001b[0m\n\u001b[1;32m     34\u001b[0m             \u001b[0mresponse_body\u001b[0m \u001b[0;34m=\u001b[0m \u001b[0mresponse\u001b[0m\u001b[0;34m.\u001b[0m\u001b[0mjson\u001b[0m\u001b[0;34m(\u001b[0m\u001b[0;34m)\u001b[0m\u001b[0;34m\u001b[0m\u001b[0;34m\u001b[0m\u001b[0m\n\u001b[0;32m---> 35\u001b[0;31m             \u001b[0;32mraise\u001b[0m \u001b[0mOpenMeteoRequestsError\u001b[0m\u001b[0;34m(\u001b[0m\u001b[0mresponse_body\u001b[0m\u001b[0;34m)\u001b[0m\u001b[0;34m\u001b[0m\u001b[0;34m\u001b[0m\u001b[0m\n\u001b[0m\u001b[1;32m     36\u001b[0m \u001b[0;34m\u001b[0m\u001b[0m\n\u001b[1;32m     37\u001b[0m         \u001b[0mresponse\u001b[0m\u001b[0;34m.\u001b[0m\u001b[0mraise_for_status\u001b[0m\u001b[0;34m(\u001b[0m\u001b[0;34m)\u001b[0m\u001b[0;34m\u001b[0m\u001b[0;34m\u001b[0m\u001b[0m\n",
            "\u001b[0;31mOpenMeteoRequestsError\u001b[0m: {'error': True, 'reason': 'Minutely API request limit exceeded. Please try again in one minute.'}"
          ]
        }
      ],
      "source": [
        "# IDX from 0 to 40 with a step of 5\n",
        "idx_i = np.arange(0, 40 + 5, 5)\n",
        "\n",
        "\n",
        "# Iterates over idx_i\n",
        "idx_j = np.arange(0, len(idx_i))\n",
        "\n",
        "\n",
        "# List of yearly rainy days for each city\n",
        "yr_rain_LIST = []\n",
        "\n",
        "\n",
        "# LOOP\n",
        "for j in range(0, len(idx_j) - 1):\n",
        "\n",
        "    for i in range(idx_i[j], idx_i[j+1]):\n",
        "\n",
        "        # STEP 1. Build df for one city at a time\n",
        "        df_i = get_data(city_coords_deg[\"Latitude\"].iloc[i],\n",
        "                        city_coords_deg[\"Longitude\"].iloc[i],\n",
        "                        str_date, end_date, time_Ldn, prop)\n",
        "\n",
        "\n",
        "        # STEP 2. Calc rainy days per year\n",
        "        rain_yr_i = calc_rain_days(df_i)  ## need to save this!\n",
        "\n",
        "        # STEP 3: Append rainy days count in list (convert to array first)\n",
        "        yr_rain_LIST.append(np.array(rain_yr_i[\"rain_count\"]))\n",
        "\n",
        "        # Print iterator i\n",
        "        print(i)\n",
        "\n",
        "\n",
        "    # Print \"sleep statement\"\n",
        "    print(\"I'm sleeping for 1 min j =\" + str(j))\n",
        "\n",
        "    # Sleep for 1 min before next iteration j\n",
        "    time.sleep(60)"
      ]
    },
    {
      "cell_type": "markdown",
      "id": "5618ec5e",
      "metadata": {
        "id": "5618ec5e"
      },
      "source": [
        "### 3b: Saving the data into a text file\n",
        "\n",
        "Finally, we can save the number of rainy days per year for each of the 40 cities into a text file.\n",
        "Note that we first converted the count of rainy days per year for all of the cities (_yr_rain_LIST_) into a dataframe, so that it would be easier to print all of the information into a text file at once, while also including the title of each column."
      ]
    },
    {
      "cell_type": "code",
      "execution_count": null,
      "id": "e8ff8646",
      "metadata": {
        "id": "e8ff8646"
      },
      "outputs": [],
      "source": [
        "# STEP 1: Convert list to arr: ROW = CITY; COL = YEAR\n",
        "yr_rain_ARR = np.array(yr_rain_LIST)\n",
        "\n",
        "\n",
        "# STEP 2: Build df with city names and years (from arr)\n",
        "\n",
        "# 2a: Name each column by year: 2001, 2002, ... , 2023\n",
        "df_all_cities = pd.DataFrame(yr_rain_ARR, columns = yr_df_LON[\"year\"])\n",
        "\n",
        "# 2b: Add columns w/ city names\n",
        "df_all_cities.insert(loc = 0, column = 'CITY',\n",
        "                     value = np.array(city_coords_deg[\"Link\"].iloc[:len(yr_rain_LIST)]))\n",
        "\n",
        "# STEP 3: Write df to file\n",
        "with open('rain_40_cities.txt', 'w') as f:\n",
        "    f.write(df_all_cities.to_string(index = False, col_space = 15))"
      ]
    },
    {
      "cell_type": "markdown",
      "id": "4baa0a35",
      "metadata": {
        "id": "4baa0a35"
      },
      "source": [
        "### 3c: Calling the API 270 times\n",
        "\n",
        "Below, we are showing the code that calls the API 270 times, taking in-between breaks, so that the minutely, hourly and daily request limits are not surpassed. The workflow of the loop is:\n",
        "\n",
        "1. Call the API 10 times\n",
        "2. Sleep for one minute\n",
        "3. Repeat steps 1 and 2, until 60 calls are reached\n",
        "4. Sleep for an hour\n",
        "5. Repeat steps 1 to 4, until 270 calls are reached\n",
        "\n",
        "<br>\n",
        "We have written the rain count for these 270 cities into the file \"rain_AVG_city.txt\", which is where the next Jupyter notebook (Curve Fit London Rain) will read from. We have commented it out so that it will not run automatically with the whole notebook, since it takes a few hours. Note that we have changed the start date of the historical weather info to the 8th July 2000, so that we have less data to process in the next notebook."
      ]
    },
    {
      "cell_type": "code",
      "execution_count": null,
      "id": "c972b2ff",
      "metadata": {
        "id": "c972b2ff"
      },
      "outputs": [],
      "source": [
        "'''\n",
        "\n",
        "# IDX from 0 to len w/ step = 10\n",
        "idx_i = np.arange(0, 270 + 10, 10)\n",
        "\n",
        "\n",
        "# Iterates over idx_i\n",
        "idx_j = np.arange(0, len(idx_i))\n",
        "\n",
        "\n",
        "# List of yearly rainy days for each city\n",
        "yr_rain_LIST = []   # list of ARRAYS: 1 row = 1 city\n",
        "\n",
        "\n",
        "# Start from the 8th July 2000\n",
        "str_date = \"2000-07-08\"\n",
        "\n",
        "\n",
        "# LOOP\n",
        "for j in range(0, len(idx_j) - 1):\n",
        "\n",
        "    for i in range(idx_i[j], idx_i[j+1]):\n",
        "\n",
        "        # STEP 1. Build df for one city at a time\n",
        "        df_i = get_data(data_full[\"Latitude\"].iloc[i],\n",
        "                        data_full[\"Longitude\"].iloc[i],\n",
        "                        str_date, end_date, time_Ldn, prop)\n",
        "\n",
        "\n",
        "        # STEP 2. Calc rainy days per year\n",
        "        rain_yr_i = calc_rain_days(df_i)  ## need to save this!\n",
        "\n",
        "        # Append yearly rainy days nbr in list (+ convert to arr!)\n",
        "        yr_rain_LIST.append(np.array(rain_yr_i[\"rain_count\"]))\n",
        "\n",
        "\n",
        "    # Print \"sleep statement\"\n",
        "    print(\"I'm sleeping for 1 min j =\" + str(j))\n",
        "\n",
        "    # Sleep for 1 min before next iteration j\n",
        "    time.sleep(60)\n",
        "\n",
        "\n",
        "    # If 60 runs reached, ie if k = (j+1)/6 is integer\n",
        "    if ((j+1)%6 == 0) :\n",
        "\n",
        "        print(\"I'm sleeping for 1 hour j =\" + str(j))\n",
        "\n",
        "        time.sleep(60*60)\n",
        "\n",
        "\n",
        "'''"
      ]
    }
  ],
  "metadata": {
    "kernelspec": {
      "display_name": "Python 3 (ipykernel)",
      "language": "python",
      "name": "python3"
    },
    "language_info": {
      "codemirror_mode": {
        "name": "ipython",
        "version": 3
      },
      "file_extension": ".py",
      "mimetype": "text/x-python",
      "name": "python",
      "nbconvert_exporter": "python",
      "pygments_lexer": "ipython3",
      "version": "3.9.18"
    },
    "colab": {
      "provenance": []
    }
  },
  "nbformat": 4,
  "nbformat_minor": 5
}